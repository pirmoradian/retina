{
 "cells": [
  {
   "cell_type": "markdown",
   "metadata": {},
   "source": [
    "# Spike-Triggered Average Analysis"
   ]
  },
  {
   "cell_type": "markdown",
   "metadata": {},
   "source": [
    "This IPython notebook is written by [Sahar Pirmoradian](https://www.linkedin.com/in/spirmorad/) as part of [RENVISION](http://www.renvision-fp7.eu) project for computing spike-triggered average of cells that are recorded using a high-density multielectrode arrays. \n",
    "\n",
    "Version 2, 14 May 2015\n",
    "\n",
    "Changes: \n",
    "\n",
    "(1) In order to analyse P79 data (shifted white noise) with different temporal and spatial resolutions compared to other white noise data we used to work with, I had to slightly modify the script: using int and float types more accurately. \n",
    "\n",
    "(2) Because of too many unexpected pauses in the stimulus presentation, I had to measure a more accurate estimation of the duration between stimulus frames. \n",
    "\n",
    "(3) In order to read hdf5 files with IIT format, read_hdf5() was modified. "
   ]
  },
  {
   "cell_type": "markdown",
   "metadata": {},
   "source": [
    "## Importing necessary libraries"
   ]
  },
  {
   "cell_type": "code",
   "execution_count": 154,
   "metadata": {},
   "outputs": [],
   "source": [
    "import h5py\n",
    "import numpy as np\n",
    "import scipy.io\n",
    "import os.path\n",
    "from scipy import stats\n",
    "import matplotlib as mplt\n",
    "import matplotlib.pyplot as plt\n",
    "import pylab\n",
    "import scipy.optimize as opt"
   ]
  },
  {
   "cell_type": "markdown",
   "metadata": {},
   "source": [
    "## Reading and preprocessing data"
   ]
  },
  {
   "cell_type": "markdown",
   "metadata": {},
   "source": [
    "### Setting data and stimulus file names"
   ]
  },
  {
   "cell_type": "code",
   "execution_count": 155,
   "metadata": {},
   "outputs": [],
   "source": [
    "masterdr = '/Users/sahar/Documents/spktanlz/data/retina/P79_28Oct14'\n",
    "\n",
    "# data file is an hdf5 file (spikes, channels, ...)\n",
    "datafullfn = masterdr + '/hdf5/P79_28_10_14_ret1_left_stim4_shifted4-white-noise_SpikesSortedRearrangeFinal_sorted.hdf5'\n",
    "\n",
    "# stimulus file is a mat file that contains SamplingFrequency, frameSamples, frameTimes, pixels_allframes (see read_stimfile())  \n",
    "stimfullfn = masterdr + '/mat/ret1_LE_shiftedWN_stim.mat'\n",
    "\n",
    "#P38 params\n",
    "#masterdr = '/Users/sahar/Documents/spktanlz/data/retina/P38_06Mar14/ret2'\n",
    "#datafullfn = masterdr + '/hdf5/P38_06_03_14_retina02_lightstim_sorted.hdf5'\n",
    "#stimfullfn = masterdr + '/mat/Retina02_LeftEye_Stim01_whitenoise100ms_stim.mat'"
   ]
  },
  {
   "cell_type": "markdown",
   "metadata": {},
   "source": [
    "### Setting parameters "
   ]
  },
  {
   "cell_type": "code",
   "execution_count": 156,
   "metadata": {},
   "outputs": [],
   "source": [
    "figpath = masterdr + '/figs/' # where STA figures are stored\n",
    "staparams_matfile = figpath + 'staparams' # it will be stored as a mat file\n",
    "spksrc = 'su'  # spike source of our data, 'ch' (channels), 'cl' (clusters), 'su' (sorted units)\n",
    "coord_spksrc = 'rc' # coordination of channles on the chip, 'rc' (row-column) or 'cr' (column-row) \n",
    "minamp = 0 # minimum amplitude of spikes\n",
    "minspk = 30 # minimum spikes a cell must have in Full-field experiment to be considered in analyses; if the number of FF trials are 30, we assume a responding cell fires at least once to each trial, that is minimum spikes are 30\n",
    "dur_sta = .5 # in sec, duration of STA \n",
    "dt_sta = 0.01 # in sec, temporal resolution of STA\n",
    "dt_sta_graphics = .1 # in sec, graphically we show this temporal resolution on STA plots\n",
    "spklatency_sta = .0  # always kept 0\n",
    "figformat = '.png' # format of figures\n",
    "max_var_acceptable = 20 # a fitted receptive field is acceptable if its center is fit with a variance that does not exceed this number\n",
    "max_pval_acceptable = 1e-06 # p-value of STA peaks must not exceed this number\n",
    "checkSTAPeakZFLG = True #if True, the STA peak is checked for significance\n",
    "staplotFLG = True  #if True, STA plots are saved\n",
    "PrintGaussParamFLG = False # if True, you can see the parameters of Gaussian fit\n",
    "slctdchs_sta = np.array([275, 1071])# 'all' # if you like to compute STA of all cells, set slctdchs_sta = 'all'; \n",
    "                                    # if you compute only the STA of selected cells, e.g. 13 or 752, set slctdchs_sta = np.array([13,752])\n",
    "                                    # if you compute the STA of a range of cells, e.g. from 10 to 20, set slctdchs_sta = np.arange(10,20) \n",
    "plotJustRespUnitsFLG = True # if True, you only save the STA plots of cells with a significant STA peak\n",
    "staSaveParamsFLG = True\n",
    "no_gausfit_params = 7\n",
    "chip_size = 2.67 # in mm\n",
    "tableau = [(31, 119, 180), (174, 199, 232), (255, 127, 14), (255, 187, 120),  \n",
    "             (44, 160, 44), (152, 223, 138), (214, 39, 40), (255, 152, 150),  \n",
    "             (148, 103, 189), (197, 176, 213), (140, 86, 75), (196, 156, 148),  \n",
    "             (227, 119, 194), (247, 182, 210), (127, 127, 127), (199, 199, 199),  \n",
    "             (188, 189, 34), (219, 219, 141), (23, 190, 207), (158, 218, 229), \n",
    "              (0,0,128)] # color\n",
    "#converting to rgb\n",
    "tableau = [(c[0]/255., c[1]/255., c[2]/255.) for c in tableau]\n",
    "    \n",
    "# TODO (not used in this version)\n",
    "figpath_rate = '.' # where Firing Rate figures are stored\n",
    "figpath_mosaic = '.' # where figures of spatial arrangements of cells are stored\n",
    "calcBiasidx4staFLG = False \n",
    "mosaicplotFLG=False\n",
    "args_fr = None\n",
    "#changes \n",
    "mosaic_imgsize= 64*64 #729 #image size (27*27)\n",
    "no_neighbpix = mosaic_imgsize  \n",
    "#changes end\n",
    "plotJustFFRespUnitsFLG=False"
   ]
  },
  {
   "cell_type": "markdown",
   "metadata": {},
   "source": [
    "### Reading data file"
   ]
  },
  {
   "cell_type": "code",
   "execution_count": 157,
   "metadata": {},
   "outputs": [],
   "source": [
    "def read_hdf5(fullfn, spksrc='ch'):\n",
    "  # fullfn - string; full file name of an hdf5 file to be read\n",
    "  # spksrc - 'ch' (channels), 'cl' (clusters), or 'su' (sorted units); spike source\n",
    "  # OUTPUT:\n",
    "  # spikes - array; frame number at which spikes were generated\n",
    "  # chs    - array; channels or clusters that generated corresponding spikes \n",
    "  # amps   - array; the amplitude of spikes\n",
    "  # freq   - float; sampling frequency. The frequency at which neuron signals were recorded\n",
    "  # nbins  - int; the resolution of channel locations; it's usually 64.\n",
    "  # loc2d  - array2D; the 2d location of channels on a chip   \n",
    "  # loc    - array1D; the location of channels that has been converted to 1 dimension for simplicity\n",
    "  # locspks2d - array2D; the location of spikes (not channels)\n",
    "  try:  \n",
    "    myfile = h5py.File(fullfn,'r')\n",
    "  except:\n",
    "    raise IOError('\\nI cannot open your hdf5 file: %s' % fullfn)\n",
    "\n",
    "  try:  \n",
    "    spikes = np.array(myfile['Times'].value+spkframe_offset, dtype=int)\n",
    "    amps = myfile['Amplitudes'].value\n",
    "    freq = myfile['Sampling'].value\n",
    "    loc2d, locspks2d = (np.array([]), np.array([]))\n",
    "    if (spksrc == 'ch'):\n",
    "      ch = myfile['Channels'].value\n",
    "      loc = np.array([])\n",
    "      nbins = 64\n",
    "    elif (spksrc == 'cl'):\n",
    "      locspks2d = myfile['Locations'].value\n",
    "      ch = myfile['Cluster']['ClusterId'].value\n",
    "      loc2d = myfile['Cluster']['CLocations'].value    \n",
    "      loc = myfile['Cluster']['CLocationsS'].value  \n",
    "      nbins = myfile['Cluster']['nBins'].value #768 #\n",
    "      # removing clusters with id equal to -1\n",
    "  #    pdb.set_trace()\n",
    "      valididxs = np.where(ch>=0)\n",
    "      spikes = spikes[valididxs]\n",
    "      amps = amps[valididxs]\n",
    "      ch = ch[valididxs]    \n",
    "      locspks2d = locspks2d[valididxs]    \n",
    "         \n",
    "    elif (spksrc == 'su'):\n",
    "      ch = myfile['SortedUnits'].value\n",
    "      markedch = myfile['MarkedChannels'].value\n",
    "      valididxs = np.where(markedch>-1)\n",
    "      spikes = spikes[valididxs]\n",
    "      amps = amps[valididxs]\n",
    "      ch = ch[valididxs]    \n",
    "      loc = myfile['LocationsS'].value\n",
    "      nbins = 64  \n",
    "  except:\n",
    "    spikes = myfile['TimeStampMatrix']['timeStamp']\n",
    "    ch = myfile['TimeStampMatrix']['idUnitStim']\n",
    "    freq = myfile['GlobalParameter']['RecordingParameter']['samplingFreq'][0]\n",
    "    m = myfile['NeuronMatrix']['marked']\n",
    "    validchs_id = myfile['NeuronMatrix']['id'][np.where(m<1)]\n",
    "    validchs_idx = np.where(np.in1d(ch, validchs_id))\n",
    "    spikes = spikes[validchs_idx]\n",
    "    ch = ch[validchs_idx]    \n",
    "    amps = np.array([10] * len(spikes))\n",
    "    nbins = 64  \n",
    "    loc = (myfile['NeuronMatrix']['posX']-1)*nbins+(myfile['NeuronMatrix']['posY']-1)\n",
    "    # to account for python arrays starting with 0, whereas neuron ids start with 1\n",
    "    loc = np.insert(loc, 0, 0)\n",
    "    loc2d, locspks2d = (np.array([]), np.array([]))    \n",
    "  data = {'spikes':spikes, 'amps': amps, 'ch':ch, 'freq':freq, 'nbins': nbins, 'loc':loc, 'loc2d':loc2d, 'locspks2d': locspks2d}\n",
    "  return data\n"
   ]
  },
  {
   "cell_type": "code",
   "execution_count": 158,
   "metadata": {},
   "outputs": [
    {
     "data": {
      "text/plain": [
       "{'amps': array([10, 10, 10, ..., 10, 10, 10]),\n",
       " 'ch': array([2329, 1549, 1327, ..., 3385, 1216, 3836], dtype=int32),\n",
       " 'freq': 7062,\n",
       " 'loc': array([   0,    2,    3, ..., 1546, 1546, 1546], dtype=int32),\n",
       " 'loc2d': array([], dtype=float64),\n",
       " 'locspks2d': array([], dtype=float64),\n",
       " 'nbins': 64,\n",
       " 'spikes': array([     23,      27,      31, ..., 8225800, 8225800, 8225800], dtype=int32)}"
      ]
     },
     "execution_count": 158,
     "metadata": {},
     "output_type": "execute_result"
    }
   ],
   "source": [
    "data = read_hdf5(datafullfn, spksrc=spksrc)\n",
    "data"
   ]
  },
  {
   "cell_type": "markdown",
   "metadata": {},
   "source": [
    "### Reading stimulus file"
   ]
  },
  {
   "cell_type": "code",
   "execution_count": 159,
   "metadata": {},
   "outputs": [],
   "source": [
    "def read_stimfile(fullfn):\n",
    "  # fullfn - string; a mat file containing the stimulus file whose variables are:\n",
    "  # SamplingFrequency - float; sampling frequency of data acquisition, e.g. 7022\n",
    "  # frameTimes - horizontal vector; times at which stimuli frames were presented, e.g. in a 15min white noise presentation with 100msec duration, 9000 images are presented, thus frameTimes is a <1x9000 double> vector  \n",
    "  # frameSamples - horizontal vector; instead of time, it contains frame numbers at which stimuli were presented, i.e. frameSamples = frameTimes * SamplingFrequency \n",
    "  # pixels_allframes - 2D array; each row represents the pixels of the image presented at each frame, e.g. in a 15min white noise presentation with 100msec duration, 9000 images are presented, and if each image has 27*27 (=729) pixels, then pixels_allframes is a <9000x729 double> array  \n",
    "  myfile = scipy.io.loadmat(fullfn)\n",
    "  stimframes = np.array(myfile.get('frameSamples')[0], dtype='int')\n",
    "  stimtimes = np.array(myfile.get('frameTimes')[0])\n",
    "  stimpixels = np.array(myfile.get('pixels_allframes'), dtype='int')\n",
    "  stimfreq = np.array(myfile.get('SamplingFrequency')[0][0])\n",
    "  stim = {'stimframes':stimframes, 'stimtimes': stimtimes, 'stimfreq':stimfreq, 'stimpixels':stimpixels}  \n",
    "  return stim"
   ]
  },
  {
   "cell_type": "code",
   "execution_count": 160,
   "metadata": {},
   "outputs": [
    {
     "data": {
      "text/plain": [
       "{'stimframes': array([ 227407,  227642,  227877, ..., 8025584, 8025820, 8026055]),\n",
       " 'stimfreq': array(7062.058198545425),\n",
       " 'stimpixels': array([[0, 1, 1, ..., 0, 0, 0],\n",
       "        [0, 0, 0, ..., 1, 0, 0],\n",
       "        [1, 1, 1, ..., 1, 1, 1],\n",
       "        ..., \n",
       "        [0, 0, 0, ..., 0, 0, 0],\n",
       "        [0, 0, 1, ..., 0, 0, 0],\n",
       "        [0, 1, 1, ..., 1, 1, 1]]),\n",
       " 'stimtimes': array([   32.20123562,    32.23451204,    32.26778845, ...,  1136.43696701,\n",
       "         1136.47038503,  1136.50366145])}"
      ]
     },
     "execution_count": 160,
     "metadata": {},
     "output_type": "execute_result"
    }
   ],
   "source": [
    "stim = read_stimfile(stimfullfn) \n",
    "stim"
   ]
  },
  {
   "cell_type": "markdown",
   "metadata": {},
   "source": [
    "## Defining handy functions that will be called in later steps"
   ]
  },
  {
   "cell_type": "markdown",
   "metadata": {},
   "source": [
    "get_spkidx(data, minamp, minframe, maxframe) returns indices of spikes, with minimum amplitude of minamp, which are fired between minframe and maxframe"
   ]
  },
  {
   "cell_type": "code",
   "execution_count": 161,
   "metadata": {},
   "outputs": [],
   "source": [
    "def get_spkidx(data, minamp=7, minframe=0, maxframe=1000):\n",
    "  amps = data['amps']\n",
    "  spikes = data['spikes']\n",
    "  idxframe_min = np.where(spikes >= minframe)[0]\n",
    "  elmidx_beforemaxf = next(x[0] for x in enumerate(idxframe_min) if spikes[x[1]] > maxframe)\n",
    "  idxframe = idxframe_min[:elmidx_beforemaxf]\n",
    "  idxamp = np.where(amps >= minamp)[0]\n",
    "  idx = np.intersect1d(idxframe, idxamp)\n",
    "  return idx"
   ]
  },
  {
   "cell_type": "markdown",
   "metadata": {},
   "source": [
    "get_hist_spkcnt(data, spkidx) returns the histogram of spikes whose indices are spkidx"
   ]
  },
  {
   "cell_type": "code",
   "execution_count": 162,
   "metadata": {},
   "outputs": [],
   "source": [
    "def get_hist_spkcnt(data, spkidx):\n",
    "  ch = data['ch']\n",
    "  no_ch=max(ch[spkidx]) + 1\n",
    "  hist_spkcnt = np.histogram(ch[spkidx],bins=np.arange(no_ch+1))[0]\n",
    "  return hist_spkcnt"
   ]
  },
  {
   "cell_type": "markdown",
   "metadata": {},
   "source": [
    "get_chlocation(ich, spksrc, nbins, loc, coord_spksrc) returns the location (locr, locc) of channel ich"
   ]
  },
  {
   "cell_type": "code",
   "execution_count": 163,
   "metadata": {},
   "outputs": [],
   "source": [
    "def get_chlocation(ich, spksrc, nbins, loc, coord_spksrc='rc'):\n",
    "  if 'array' in type(loc[ich]).__name__:\n",
    "    locr = loc[ich][0]\n",
    "    locc = loc[ich][1]\n",
    "  elif spksrc == 'ch':\n",
    "    locr = ich / nbins\n",
    "    locc = np.mod(ich, nbins)\n",
    "  elif spksrc == 'cl' or spksrc == 'su':\n",
    "    if nbins:\n",
    "      locr = loc[ich] / nbins\n",
    "      locc = np.mod(loc[ich], nbins)\n",
    "      locr = locr * 64 / nbins\n",
    "      locc = locc * 64 / nbins  \n",
    "    else:\n",
    "      locr = loc[ich][0]\n",
    "      locc = loc[ich][1]\n",
    "  if coord_spksrc == 'cr':\n",
    "    tmp = locr\n",
    "    locr = locc\n",
    "    locc = tmp\n",
    "  return locr, locc"
   ]
  },
  {
   "cell_type": "markdown",
   "metadata": {},
   "source": [
    "get_neighborpixels(locr, locc, image_xsize, no_neighbpix_x) returns all pixels surrounding location [locr, locc]"
   ]
  },
  {
   "cell_type": "code",
   "execution_count": 164,
   "metadata": {},
   "outputs": [],
   "source": [
    "def get_neighborpixels(locr, locc, image_xsize, no_neighbpix_x):\n",
    "  # change in v1.2  \n",
    "  minr = locr - int(no_neighbpix_x/2)\n",
    "  maxr = locr + int(np.ceil(no_neighbpix_x/2)) \n",
    "  minc = locc - int(no_neighbpix_x/2)\n",
    "  maxc = locc + int(np.ceil(no_neighbpix_x/2))\n",
    "  # change end\n",
    "  if minr < 0:\n",
    "    maxr -= minr\n",
    "    minr = 0\n",
    "  if maxr > image_xsize:\n",
    "    minr = minr + (image_xsize - maxr)\n",
    "    maxr = image_xsize\n",
    "  if minc < 0:\n",
    "    maxc -= minc\n",
    "    minc = 0\n",
    "  if maxc > image_xsize:\n",
    "    minc = minc + (image_xsize - maxc)\n",
    "    maxc = image_xsize  \n",
    "  neighborpixels_pos = [r*image_xsize+c for r in np.arange(minr, maxr) for c in np.arange(minc, maxc)]\n",
    "  return neighborpixels_pos, minr, minc"
   ]
  },
  {
   "cell_type": "markdown",
   "metadata": {},
   "source": [
    "plotsta(ich, \\*args, \\**kwds) plots temporal and spatial course of STA of channel ich"
   ]
  },
  {
   "cell_type": "code",
   "execution_count": 165,
   "metadata": {},
   "outputs": [],
   "source": [
    "def plotsta(ich, sta_ich, neighborpixels_pos, spkcnt_ich, dt_sta_graphics, time_bins,figpath,spksrc,\\\n",
    "              figformat,maxsta_idx,dt_sta,dur_sta, no_neighbpix_x,locc, locc_, minc, locr, locr_, minr, popt_on,mappedrf_on,\\\n",
    "              minsta_idx, popt_off, mappedrf_off):\n",
    "    fntsz = 12\n",
    "    darkyellow = [255./255,200./255,0./255]# [238./255,238./255,0]\n",
    "    x = np.linspace(0, no_neighbpix_x-1, no_neighbpix_x)\n",
    "    y = np.linspace(0, no_neighbpix_x-1, no_neighbpix_x)\n",
    "    x, y = np.meshgrid(x, y) \n",
    "    plt.figure(figsize=(8,6))   \n",
    "    plt.subplot(221)\n",
    "    plt.plot(sta_ich[:,neighborpixels_pos], color='grey')\n",
    "    plt.hold('on')\n",
    "    #  plt.plot(sta_ich[:,maxsta_idx[1]], color='r')\n",
    "\n",
    "    #  plt.title('STA - '+ 'spkcnt ' + str(spkcnt_ich) , fontsize=10)\n",
    "    plt.xlabel('Time (s)', fontsize=fntsz)\n",
    "    plt.ylabel('Pixel brightness', fontsize=fntsz)\n",
    "    plt.xticks(np.arange(0, len(sta_ich[:,0]), 1/dt_sta_graphics), time_bins)\n",
    "    plt.ylim([0,1])\n",
    "    polish_fig(plt.gca(),xlabcoord=-.15,vis_rightaxis=True, vis_leftaxis=False, vis_topaxis=False, vis_bottomaxis=True, xtick_pos='bottom', ytick_pos='right',xlabel_pos='bottom', ylabel_pos='right',boldvline=False)\n",
    "    plt.subplots_adjust(hspace=.4)\n",
    "\n",
    "    # Plotting firing rate*******\n",
    "    #TODO  \n",
    "    plt.subplot(222)\n",
    "    plt.axis('off')\n",
    "\n",
    "    plt.subplot(223)\n",
    "    img_on = sta_ich[maxsta_idx[0],neighborpixels_pos]   \n",
    "    #  sta_f = scipy.io.loadmat('/Users/sahar/Documents/spktanlz/data/retina/P38_06Mar14/ret2/Luiz/neuron_789_maxsta_SA2.mat', squeeze_me=True)\n",
    "    #  img_on = np.hstack(sta_f['mean_sta'].transpose().reshape([27*27,1]))\n",
    "    plt.title('Positive peak (t = '+ str(int((maxsta_idx[0]*dt_sta - dur_sta)*1000)) + ' ms)' , fontsize=10, color='k')\n",
    "    plt.imshow(np.reshape(img_on, [no_neighbpix_x, no_neighbpix_x]), cmap=pylab.cm.gray, interpolation='none')\n",
    "    plt.text(locc-minc-.5, locr-minr-.5,'+',color='r',horizontalalignment='center',verticalalignment='center', fontsize=fntsz)\n",
    "\n",
    "    if popt_on.any():  \n",
    "        data_fitted_on = Gaussian2D_bivariate((x, y), *popt_on) \n",
    "        if data_fitted_on.any():\n",
    "          plt.contour(x, y, data_fitted_on.reshape(no_neighbpix_x, no_neighbpix_x), [Gaussian2D_bivariate((popt_on[0]+popt_on[3], popt_on[1]+popt_on[4]), *popt_on)], colors='k', linewidths=2)\n",
    "          plt.text(popt_on[0],popt_on[1],'+',color='k',horizontalalignment='center',verticalalignment='center', fontsize=fntsz)\n",
    "          if mappedrf_on:\n",
    "            plt.title('Positive peak (t = '+ str(int((maxsta_idx[0]*dt_sta - dur_sta)*1000)) + ' ms)' , fontsize=fntsz, color=darkyellow)\n",
    "            plt.contour(x, y, data_fitted_on.reshape(no_neighbpix_x, no_neighbpix_x), [Gaussian2D_bivariate((popt_on[0]+popt_on[3], popt_on[1]+popt_on[4]), *popt_on)], colors='orange', linewidths=2)\n",
    "            plt.text(popt_on[0],popt_on[1],'+',color='orange',horizontalalignment='center',verticalalignment='center', fontsize=fntsz)\n",
    "    plt.tick_params(axis='x', which='both', bottom='off', top='off', labelbottom='off')\n",
    "    plt.tick_params(axis='y', which='both', right='off', left='off', labelleft='off')\n",
    "\n",
    "    plt.subplot(224)\n",
    "    img_off = sta_ich[minsta_idx[0],neighborpixels_pos]   \n",
    "    plt.title('Negative peak (t = '+ str(int((minsta_idx[0]*dt_sta - dur_sta)*1000)) + ' ms)' , fontsize=fntsz)\n",
    "    plt.imshow(np.reshape(img_off, [no_neighbpix_x, no_neighbpix_x]), cmap=pylab.cm.gray, interpolation='none')\n",
    "    plt.text(locc-minc-.5, locr-minr-.5,'+',color='r',horizontalalignment='center',verticalalignment='center', fontsize=fntsz)\n",
    "    if popt_off.any():\n",
    "        data_fitted_off = Gaussian2D_bivariate((x, y), *popt_off)\n",
    "        if data_fitted_off.any():\n",
    "          plt.contour(x, y, data_fitted_off.reshape(no_neighbpix_x, no_neighbpix_x), [Gaussian2D_bivariate((popt_off[0]+popt_off[3], popt_off[1]+popt_off[4]), *popt_off)], colors='k', linewidths=2)\n",
    "          plt.text(popt_off[0], popt_off[1],'+',color='k',horizontalalignment='center',verticalalignment='center', fontsize=fntsz)\n",
    "        #      pdb.set_trace()\n",
    "          if mappedrf_off:\n",
    "            plt.title('Negative peak (t = '+ str(int((minsta_idx[0]*dt_sta - dur_sta)*1000)) + ' ms)' , color=tableau[20],fontsize=fntsz)\n",
    "            plt.contour(x, y, data_fitted_off.reshape(no_neighbpix_x, no_neighbpix_x), [Gaussian2D_bivariate((popt_off[0]+popt_off[3], popt_off[1]+popt_off[4]), *popt_off)], colors='b', linewidths=2)\n",
    "            plt.text(popt_off[0], popt_off[1],'+',color=tableau[20],horizontalalignment='center',verticalalignment='center', fontsize=fntsz)\n",
    "    plt.tick_params(axis='x', which='both', bottom='off', top='off', labelbottom='off')\n",
    "    plt.tick_params(axis='y', which='both', right='off', left='off', labelleft='off')\n",
    "\n",
    "    plt.suptitle(spksrc+ str(ich)+ ' - loc (' + \"%0.1f\" % locr_ + ',' + \"%0.1f\" % locc_ + ')', fontsize=fntsz, y=.99)    \n",
    "    figname = os.path.join(figpath,'sta_'+spksrc+str(ich)+'_spkcnt'+str(spkcnt_ich)+'dur'+str(dur_sta)+'dt'+str(dt_sta)+figformat)\n",
    "    plt.savefig(figname, bbox_inches='tight')  \n",
    "    print 'figure saved to:', figname    \n",
    "    plt.close()"
   ]
  },
  {
   "cell_type": "markdown",
   "metadata": {},
   "source": [
    "polish_fig(ax) polishes the figure passed by its axis, ax"
   ]
  },
  {
   "cell_type": "code",
   "execution_count": 166,
   "metadata": {
    "scrolled": true
   },
   "outputs": [],
   "source": [
    "def polish_fig(ax,xlabcoord=-.12,vis_rightaxis=False, vis_leftaxis=True, vis_topaxis=False, vis_bottomaxis=True, xtick_pos='bottom', ytick_pos='left', xlabel_pos='bottom', ylabel_pos='left', boldvline=True, invis_firstlabel=False, a=2):\n",
    "  mplt.rcParams['xtick.direction'] = 'out'\n",
    "  mplt.rcParams['ytick.direction'] = 'out'\n",
    "  mplt.rc('axes',facecolor='ffffff')\n",
    "  mplt.rc('axes',edgecolor='000000')\n",
    "  mplt.rc('axes',labelcolor='000000')\n",
    "  mplt.rc('xtick',color='000000')\n",
    "  mplt.rc('ytick',color='000000')\n",
    "  ax.spines[\"right\"].set_visible(vis_rightaxis)\n",
    "  ax.spines[\"top\"].set_visible(vis_topaxis)\n",
    "  ax.spines[\"left\"].set_visible(vis_leftaxis)\n",
    "  ax.spines[\"bottom\"].set_visible(vis_bottomaxis)\n",
    "  ax.xaxis.set_ticks_position(xtick_pos)\n",
    "  ax.yaxis.set_ticks_position(ytick_pos)\n",
    "  ax.xaxis.set_label_position(xlabel_pos)\n",
    "  ax.yaxis.set_label_position(ylabel_pos)\n",
    "  ax.xaxis.set_label_coords(0.5, xlabcoord)\n",
    "      \n",
    "  if invis_firstlabel:\n",
    "    plt.setp(ax.get_yticklabels()[0], visible=False)    \n",
    "    plt.setp(ax.get_xticklabels()[0], visible=False)    \n",
    "\n",
    "#  ax.yaxis.set_major_locator(MaxNLocator(prune='lower'))\n",
    "#  ax.tick_params(axis='x', pad=15) # distant ticks\n",
    "  if boldvline:\n",
    "    ax.axvline(linewidth=a, color=\"black\")\n",
    "    ax.axhline(linewidth=a, color=\"black\")\n",
    "    ax.tick_params('both', width=a, which='major', direction='out')"
   ]
  },
  {
   "cell_type": "markdown",
   "metadata": {},
   "source": [
    "Gaussian2D_bivariate((x, y)) fits a gaussian2d "
   ]
  },
  {
   "cell_type": "code",
   "execution_count": 167,
   "metadata": {},
   "outputs": [],
   "source": [
    "def Gaussian2D_bivariate((x, y), xo, yo, amplitude, sigma_x, sigma_y, theta, offset):\n",
    "    xo = float(xo)\n",
    "    yo = float(yo)    \n",
    "    a = (np.cos(theta)**2)/(2*sigma_x**2) + (np.sin(theta)**2)/(2*sigma_y**2)\n",
    "    b = -(np.sin(2*theta))/(4*sigma_x**2) + (np.sin(2*theta))/(4*sigma_y**2)\n",
    "    c = (np.sin(theta)**2)/(2*sigma_x**2) + (np.cos(theta)**2)/(2*sigma_y**2)\n",
    "    g = offset + amplitude*np.exp( - (a*((x-xo)**2) + 2*b*(x-xo)*(y-yo) \n",
    "                            + c*((y-yo)**2)))\n",
    "    return g.ravel()"
   ]
  },
  {
   "cell_type": "markdown",
   "metadata": {},
   "source": [
    "## Computing Spike-triggered Average"
   ]
  },
  {
   "cell_type": "code",
   "execution_count": 168,
   "metadata": {},
   "outputs": [
    {
     "name": "stdout",
     "output_type": "stream",
     "text": [
      "\n",
      "Estimated stimulus duration: 40.7816482583 ms, i.e.  288  frames\n",
      "\n"
     ]
    }
   ],
   "source": [
    "# assigning data variables\n",
    "ch = data['ch']\n",
    "no_ch = len(np.unique(ch))  \n",
    "freq = data['freq']\n",
    "spikes = data['spikes']\n",
    "loc = data['loc']\n",
    "loc2d = data['loc2d']\n",
    "nbins = data['nbins']\n",
    "\n",
    "# assigning stimulus variables\n",
    "stimframes = stim['stimframes']\n",
    "stimpixels = stim['stimpixels']\n",
    "image_xsize = int(np.sqrt(len(stimpixels[0])))\n",
    "dur_sta_f = int(dur_sta * freq)\n",
    "spklatency_sta_f = int(spklatency_sta * freq)\n",
    "# change in v1.2\n",
    "dur_stim_est = int(np.average(stimframes[1:-1]-stimframes[0:-2]))\n",
    "print '\\nEstimated stimulus duration:', dur_stim_est/float(freq)*1000, 'ms, i.e. ', dur_stim_est,' frames\\n'\n",
    "# change end"
   ]
  },
  {
   "cell_type": "markdown",
   "metadata": {},
   "source": [
    "Removing any pauses in the white-noise experiment: We shift spikes after experiment breaks as if there were no breaks in the experiemnt (a 15min experiment is usually devided to 3 5min experiment with pauses in between)"
   ]
  },
  {
   "cell_type": "code",
   "execution_count": 169,
   "metadata": {},
   "outputs": [
    {
     "name": "stdout",
     "output_type": "stream",
     "text": [
      "frames at which breaks happens (starting from 0): [2999, 5999, 8999, 11999, 14999, 17999, 20999, 23999]\n",
      "stim pauses: 0 2999\n",
      "stim pauses: 1 5999\n",
      "stim pauses: 2 8999\n",
      "stim pauses: 3 11999\n",
      "stim pauses: 4 14999\n",
      "stim pauses: 5 17999\n",
      "stim pauses: 6 20999\n",
      "stim pauses: 7 23999\n",
      "\n",
      "The true duration of stimulus: 33.3256308983 ms, i.e. 235.345605404 frames\n"
     ]
    }
   ],
   "source": [
    "stimframes_idxpause = [idx for idx, elm in enumerate(stimframes[:-1]) if (stimframes[idx+1] - elm)>dur_stim_est*2]\n",
    "print 'frames at which breaks happens (starting from 0):', stimframes_idxpause\n",
    "spkidx = np.array([], dtype=int)\n",
    "startf_idx = 0\n",
    "no_neighbpix_x = np.sqrt(no_neighbpix)\n",
    "#change in v1.2 (introducing avg_stimdur to estimate the real duration between stimuli after removing pauses)\n",
    "avg_stimdur = []\n",
    "for i, idx_p in enumerate(stimframes_idxpause):\n",
    "    avg_stimdur.append(np.average(stimframes[startf_idx+1:idx_p]-stimframes[startf_idx:idx_p-1]))\n",
    "    print 'stim pauses:', i, idx_p\n",
    "    spkidx_spcf = get_spkidx(data, minamp, stimframes[startf_idx]+dur_sta_f+spklatency_sta_f, stimframes[idx_p]+spklatency_sta_f)\n",
    "    spkidx = np.append(spkidx, spkidx_spcf)\n",
    "    startf_idx = idx_p+1\n",
    "# we faced a boundary problem, so in the following line we had to change stimframes[-1] to stimframes[-2], not a big deal really.\n",
    "spkidx_spcf = get_spkidx(data, minamp, stimframes[startf_idx]+dur_sta_f+spklatency_sta_f, stimframes[-2]+spklatency_sta_f)\n",
    "spkidx = np.append(spkidx, spkidx_spcf)\n",
    "\n",
    "dur_stim_f = np.average(avg_stimdur)\n",
    "dur_stim = dur_stim_f / float(freq)\n",
    "print '\\nThe true duration of stimulus:', dur_stim*1000, 'ms, i.e.', dur_stim_f, 'frames'\n",
    "no_bins_sta = int(round(dur_sta / dt_sta))\n",
    "no_bins_sta_stim = int(round(dur_sta / dur_stim))\n",
    "# change end"
   ]
  },
  {
   "cell_type": "markdown",
   "metadata": {},
   "source": [
    "Selecting spiking channels whose STA will be computed"
   ]
  },
  {
   "cell_type": "code",
   "execution_count": 170,
   "metadata": {},
   "outputs": [
    {
     "name": "stdout",
     "output_type": "stream",
     "text": [
      "spiking channels: [ 275 1071]\n"
     ]
    }
   ],
   "source": [
    "hist_spkcnt = get_hist_spkcnt(data, spkidx)\n",
    "allspikingChannels = np.where(hist_spkcnt >= minspk)[0] # if all channels spike: ~= np.arange(no_ch)\n",
    "if slctdchs_sta == 'all':\n",
    "    spikingChannels = allspikingChannels\n",
    "else:\n",
    "    spikingChannels = slctdchs_sta[np.where(hist_spkcnt[slctdchs_sta]>=minspk)[0]]\n",
    "\n",
    "print 'spiking channels:', spikingChannels\n",
    "\n",
    "# preparing the binning of the sta array\n",
    "no_bins_sta = int(dur_sta / dt_sta)\n",
    "no_bins_sta_stim = int(dur_sta / dur_stim)\n",
    "if no_bins_sta_stim > no_bins_sta:\n",
    "    raise ValueError('You should decrease dt_sta (i.e. increasing the resolution) for this stimulus')\n",
    "no_bins_add = no_bins_sta / no_bins_sta_stim\n",
    "stimidx_rep = np.repeat(range(len(stimframes)), no_bins_add)\n",
    "time_bins = np.arange(-dur_sta*10, 1, dt_sta_graphics*10)/10."
   ]
  },
  {
   "cell_type": "markdown",
   "metadata": {},
   "source": [
    "Allocating memories \n",
    "(TODO: it needs to be optimized)"
   ]
  },
  {
   "cell_type": "code",
   "execution_count": 171,
   "metadata": {},
   "outputs": [],
   "source": [
    "stalatency_on, stalatency_off = (np.zeros(max(spikingChannels)+1), np.zeros(max(spikingChannels)+1))\n",
    "stapeakresp_on, stapeakresp_off = (np.ones(max(spikingChannels)+1)*.5, np.ones(max(spikingChannels)+1)*.5)\n",
    "rfdiameters_on, rfdiameters_off = (np.zeros(max(spikingChannels)+1), np.zeros(max(spikingChannels)+1))\n",
    "starespunits, mappedrfunits = (np.zeros(max(spikingChannels)+1), np.zeros(max(spikingChannels)+1))\n",
    "popts_on = np.zeros([max(spikingChannels)+1, no_gausfit_params])\n",
    "popts_off = np.zeros([max(spikingChannels)+1, no_gausfit_params])\n",
    "locs_spikingChs = np.zeros((max(spikingChannels)+1,2))\n",
    "\n",
    "# params returned after computation of firing rate  \n",
    "ffspkcnt2d_avg, ffspkcnt2d_std, ffspkcnt2l_avg, ffspkcnt2l_std = (np.zeros(max(spikingChannels)+1) for i in range(4))\n",
    "fflatency2dark, fflatency2light, ffduresp2dark, ffduresp2light, ffpeakresp2dark, ffpeakresp2light = (np.zeros(max(spikingChannels)+1) for i in range(6))\n",
    "ffirstspk2d_avg, ffirstspk2d_std, ffirstspk2l_avg, ffirstspk2l_std = (np.zeros(max(spikingChannels)+1) for i in range(4))\n",
    "biasidxs = np.ones(max(spikingChannels)+1) * -1.2"
   ]
  },
  {
   "cell_type": "markdown",
   "metadata": {},
   "source": [
    "Computing STA for each channel"
   ]
  },
  {
   "cell_type": "code",
   "execution_count": 172,
   "metadata": {},
   "outputs": [
    {
     "name": "stdout",
     "output_type": "stream",
     "text": [
      "\n",
      "su : 275 *************\n",
      "***On-response RF was mapped ***\n",
      "***OFF-response RF was mapped ***\n",
      "figure saved to: /Users/sahar/Documents/spktanlz/data/retina/P79_28Oct14/figs/sta_su275_spkcnt2441dur0.5dt0.01.png\n",
      "\n",
      "su : 1071 *************\n",
      "saving sta params in a mat file...\n",
      "Parameters were saved into:  /Users/sahar/Documents/spktanlz/data/retina/P79_28Oct14/figs/staparams_2su.mat\n"
     ]
    }
   ],
   "source": [
    "for ich in spikingChannels:\n",
    "    print '\\n', spksrc, ':', str(ich), '*************'\n",
    "    \n",
    "    # Plot and Compute Bias Index if necessary ******************************\n",
    "    if calcBiasidx4staFLG:\n",
    "        pass\n",
    "        # TODO: its ipython notebook needs to be implemented\n",
    "\n",
    "    popt_on, popt_off = (np.array([]),np.array([]))\n",
    "    pcov_on, pcov_off = (np.array([]),np.array([]))\n",
    "    locr_, locc_ = get_chlocation(ich, spksrc, nbins, loc, coord_spksrc)\n",
    "    if spksrc == 'cl':\n",
    "      locr_, locc_ = get_chlocation(ich, spksrc, nbins, loc2d, coord_spksrc) \n",
    "    else:\n",
    "      locr_, locc_ = get_chlocation(ich, spksrc, nbins, loc, coord_spksrc) \n",
    "    locs_spikingChs[ich] = np.array([locr_, locc_])\n",
    "\n",
    "    locr = (locr_ + .5) * image_xsize/64.0 \n",
    "    locc = (locc_ + .5) * image_xsize/64.0 \n",
    "    neighborpixels_pos, minr, minc = get_neighborpixels(int(round(locr)), int(round(locc)), image_xsize, no_neighbpix_x)\n",
    "    spkidx_ich = np.where(ch==ich)[0]\n",
    "    spkidx_ich = np.intersect1d(spkidx_ich, spkidx)\n",
    "    sta_ich = np.zeros([no_bins_sta+1, len(stimpixels[0])])\n",
    "\n",
    "    # estimating the start frames of STA; for example, if the first spike of ich is fired at frame 30000, i.e. spikes[spkidx_ich][0]==30000, and dur_sta_f=500ms*7022, then the first sta frame is startfs_sta_ich[0]=30000-.5*7022\n",
    "    startfs_sta_ich = spikes[spkidx_ich] - dur_sta_f - spklatency_sta_f\n",
    "    \n",
    "    #joins the paused frames together (removing pauses within white noise presentation and aligning frames for computing STA)\n",
    "    startfs_sta_ich_tmp = np.copy(startfs_sta_ich)   \n",
    "    for pausef_idx in stimframes_idxpause:\n",
    "      idx_afterp = np.where(startfs_sta_ich > stimframes[pausef_idx])\n",
    "      startfs_sta_ich_tmp[idx_afterp] -= stimframes[pausef_idx+1] - stimframes[pausef_idx] - dur_stim_f\n",
    "    startfs_sta_ich_idx = [int(x) for x in (startfs_sta_ich_tmp-stimframes[0])/float(dur_stim_f)*no_bins_add]\n",
    "\n",
    "    # computing STA of ich: averaging stimulus pixels across a particular time before spikes\n",
    "    for idx, startfi in enumerate(startfs_sta_ich_idx): \n",
    "      #print '\\n***\\nspike frame:', spikes[spkidx_ich[idx]], '\\nstartframe:', startfs_sta_ich_tmp[idx], '\\n sta frames:', [stimframes[0]+(i*dur_stim_f/no_bins_add) for i in range(startfi,startfi+no_bins_sta+1)], '\\n stimpixels:', stimpixels[stimidx_rep[startfi:startfi+no_bins_sta+1],0],'\\n'\n",
    "      sta_ich += stimpixels[stimidx_rep[startfi:startfi+no_bins_sta+1]]\n",
    "    sta_ich /= len(spkidx_ich)\n",
    "\n",
    "    #*************************************************\n",
    "    # finding positive and negative peak STAs \n",
    "    maxsta_idx = np.unravel_index(sta_ich.argmax(), sta_ich.shape)\n",
    "    minsta_idx = np.unravel_index(sta_ich.argmin(), sta_ich.shape)\n",
    "\n",
    "    # Calculating the zscores of positive and negative peak STAs: (x-mu)/var  \n",
    "    zscores_atmaxsta = stats.zscore(sta_ich[maxsta_idx[0],neighborpixels_pos])\n",
    "    zscores_atminsta = stats.zscore(sta_ich[minsta_idx[0],neighborpixels_pos])\n",
    "    \n",
    "    # calculating p-values of peak STAs by computing the cumulative density function at peaks\n",
    "    # scipy.special.ndtr returns cumulative density function, i.e. the area under the probability density function of the given zscores\n",
    "    pval_atmaxsta = scipy.special.ndtr(-np.abs(zscores_atmaxsta[maxsta_idx[1]]))\n",
    "    pval_atminsta = scipy.special.ndtr(-np.abs(zscores_atminsta[minsta_idx[1]]))\n",
    "    \n",
    "    if (checkSTAPeakZFLG and pval_atmaxsta > max_pval_acceptable and pval_atminsta > max_pval_acceptable):\n",
    "      continue\n",
    "    #    pdb.set_trace()\n",
    "\n",
    "    # Evaluate ON response ***************************************************\n",
    "    mappedrf_on = 0\n",
    "    x = np.linspace(0, no_neighbpix_x-1, no_neighbpix_x)\n",
    "    y = np.linspace(0, no_neighbpix_x-1, no_neighbpix_x)\n",
    "    x, y = np.meshgrid(x, y) \n",
    "    img_on = sta_ich[maxsta_idx[0],neighborpixels_pos]   \n",
    "    # reading sta directly from a file****************\n",
    "    #    pdb.set_trace()\n",
    "    #    sta_f = scipy.io.loadmat('/Users/sahar/Documents/spktanlz/data/retina/P38_06Mar14/ret2/Luiz/neuron_789_maxsta_SA2.mat', squeeze_me=True)\n",
    "    #    img_on = np.hstack(sta_f['mean_sta'].transpose().reshape([27*27,1]))\n",
    "\n",
    "    initial_guess = [locc-minc-.5, locr-minr-.5, 1, 1, 1, 0, 0]\n",
    "    #    initial_guess = [locc-minc-1, locr-minr-1, 1, 1, 1, 0, 0]\n",
    "    try:\n",
    "      popt_on, pcov_on = opt.curve_fit(Gaussian2D_bivariate, (x,y), img_on, p0=initial_guess)\n",
    "      popts_on[ich] = popt_on\n",
    "      popt_onstr = [float(\"%0.2f\" % v) for v in popt_on]\n",
    "      popt_var_on = [float(\"%0.2f\" % v) for v in pcov_on.diagonal()]\n",
    "      if PrintGaussParamFLG:\n",
    "        print '\\nON: Gaussian2D was fit by the parameters:\\nxo=', popt_onstr[0], '\\nyo=', popt_onstr[1], \\\n",
    "              '\\namplitude=', popt_onstr[2] , '\\nsigma_x=', popt_onstr[3], '\\nsigma_y=', popt_onstr[4],'\\ntheta=', popt_onstr[5], '\\noffset=', popt_onstr[6]     \n",
    "        print '\\nON: Variance of the parameters:\\nxo_var=', popt_var_on[0], '\\nyo_var=', popt_var_on[1], \\\n",
    "              '\\namplitude_var=', popt_var_on[2] , '\\nsigma_x_var=', popt_var_on[3], '\\nsigma_y_var=', popt_var_on[4],'\\ntheta_var=', popt_var_on[5], '\\noffset_var=', popt_var_on[6]     \n",
    "\n",
    "    #      data_fitted_on = Gaussian2D_bivariate((x, y), *popt_on)      \n",
    "      #pval_atmaxsta < max_pval_acceptable and             \n",
    "      if (np.abs(popt_var_on[0]) < max_var_acceptable and np.abs(popt_var_on[1]) < max_var_acceptable and popt_onstr[2] > 0):\n",
    "        print '***On-response RF was mapped ***'\n",
    "        mappedrf_on = 1\n",
    "    except:\n",
    "      print '\\n!!!on-response could not be mapped\\n'\n",
    "\n",
    "    # Evaluate OFF response ***************************************************\n",
    "    mappedrf_off = 0\n",
    "    img_off = sta_ich[minsta_idx[0],neighborpixels_pos]   \n",
    "    initial_guess = [locc-minc-.5, locr-minr-.5, 1, 1, 1, 0, 0]\n",
    "\n",
    "    try:\n",
    "      popt_off, pcov_off = opt.curve_fit(Gaussian2D_bivariate, (x, y), img_off, p0=initial_guess)\n",
    "      popts_off[ich] = popt_off\n",
    "      popt_offstr = [float(\"%0.2f\" % v) for v in popt_off]\n",
    "      popt_var_off = [float(\"%0.2f\" % v) for v in pcov_off.diagonal()]\n",
    "      if PrintGaussParamFLG:\n",
    "        print '\\n***\\nOFF: Gaussian2D was fit by the parameters:\\nxo=', popt_offstr[0], '\\nyo=', popt_offstr[1], \\\n",
    "              '\\namplitude=', popt_offstr[2] , '\\nsigma_x=', popt_offstr[3], '\\nsigma_y=', popt_offstr[4],'\\ntheta=', popt_offstr[5], '\\noffset=', popt_offstr[6] #Gaussian2D_bivariate\n",
    "        print '\\nOFF: Variance of the parameters:\\nxo_var=', popt_var_off[0], '\\nyo_var=', popt_var_off[1], \\\n",
    "              '\\namplitude_var=', popt_var_off[2] , '\\nsigma_x_var=', popt_var_off[3], '\\nsigma_y_var=', popt_var_off[4],'\\ntheta_var=', popt_var_off[5], '\\noffset_var=', popt_var_off[6]     \n",
    "    #      data_fitted_off = Gaussian2D_bivariate((x, y), *popt_off)\n",
    "      # pval_atminsta < max_pval_acceptable\n",
    "    #      pdb.set_trace()\n",
    "      if (np.abs(popt_var_off[0]) < max_var_acceptable and np.abs(popt_var_off[1]) < max_var_acceptable and popt_offstr[2] < 0):\n",
    "        print '***OFF-response RF was mapped ***'\n",
    "        mappedrf_off = 1\n",
    "    except:\n",
    "      print '\\n!!!off-response could not be mapped\\n'\n",
    "\n",
    "    # Setting STA parameters **************************************\n",
    "    isvalid_tempstaon = (pval_atmaxsta < max_pval_acceptable)\n",
    "    isvalid_tempstaoff = (pval_atminsta < max_pval_acceptable)\n",
    "    if isvalid_tempstaon:\n",
    "      stalatency_on[ich] = (dur_sta - maxsta_idx[0]*dt_sta)*1000\n",
    "      stapeakresp_on[ich] = sta_ich.max()\n",
    "    if isvalid_tempstaoff:\n",
    "      stalatency_off[ich] = (dur_sta - minsta_idx[0]*dt_sta)*1000\n",
    "      stapeakresp_off[ich] = sta_ich.min()\n",
    "\n",
    "    #    pdb.set_trace()\n",
    "    if (isvalid_tempstaon and isvalid_tempstaoff):    \n",
    "      # if ON peak is nearer to spike than OFF peak\n",
    "      if maxsta_idx[0] > minsta_idx[0]:\n",
    "        starespunits[ich] = 1\n",
    "      else:\n",
    "        starespunits[ich] = -1\n",
    "    elif isvalid_tempstaon:\n",
    "      starespunits[ich] = 1      \n",
    "    elif isvalid_tempstaoff:\n",
    "      starespunits[ich] = -1\n",
    "\n",
    "    # Setting the RF parameters **************************************\n",
    "    #    pdb.set_trace()\n",
    "    if mappedrf_on:\n",
    "      rfdiameters_on[ich] = 2 * np.sqrt(np.abs(popt_on[3] * popt_on[4]))\n",
    "    if mappedrf_off:\n",
    "      rfdiameters_off[ich] = 2 * np.sqrt(np.abs(popt_off[3] * popt_off[4]))\n",
    "\n",
    "    if mappedrf_on and mappedrf_off:    \n",
    "      # if ON peak is nearer to spike than OFF peak\n",
    "      if (starespunits[ich] == 1):\n",
    "        mappedrfunits[ich] = 1\n",
    "      else:\n",
    "        mappedrfunits[ich] = -1\n",
    "    elif mappedrf_on:\n",
    "      mappedrfunits[ich] = 1\n",
    "    elif mappedrf_off:\n",
    "      mappedrfunits[ich] = -1\n",
    "    \n",
    "    # receptive field diameters\n",
    "    rfdiameters_on[ich] *= chip_size * 1000 * 1./image_xsize     \n",
    "    rfdiameters_off[ich] *= chip_size * 1000 * 1./image_xsize     \n",
    "\n",
    "    stapeakresp_on[ich] = np.abs(0.5 - stapeakresp_on[ich])\n",
    "    stapeakresp_off[ich] = np.abs(0.5 - stapeakresp_off[ich])\n",
    "    #    pdb.set_trace()     \n",
    "    # Plot STA ***************************************************************\n",
    "    if staplotFLG and (mappedrf_on or mappedrf_off or not plotJustRespUnitsFLG): \n",
    "      plotsta(ich, sta_ich, neighborpixels_pos, hist_spkcnt[ich], dt_sta_graphics, time_bins,figpath, spksrc,\\\n",
    "              figformat,maxsta_idx,dt_sta,dur_sta, no_neighbpix_x,locc, locc_, minc, locr, locr_, minr, popt_on,mappedrf_on,\\\n",
    "              minsta_idx, popt_off, mappedrf_off)\n",
    "        \n",
    "if staSaveParamsFLG:\n",
    "    print 'saving sta params in a mat file...'\n",
    "    paramnames = np.array(['Spikingchannels', 'locs_r', 'locs_c', 'biasidxs', 'latency2l', 'latency2d',\\\n",
    "              'duresp2l', 'duresp2d', 'peakresp2l', 'peakresp2d', 'firstspk2l_avg', 'firstspk2d_avg', \\\n",
    "              'firstspk2l_std', 'firstspk2d_std', 'spkcnt2l_avg', 'spkcnt2d_avg', 'spkcnt2l_std', 'spkcnt2d_std', \\\n",
    "              'starespunits', 'stalatency_on', 'stalatency_off', 'stapeakresp_on', 'stapeakresp_off', 'mappedrfunits', 'rfdiameters_on', 'rfdiameters_off', \\\n",
    "              'rf_on_x0', 'rf_on_y0', 'rf_on_amp', 'rf_on_sigmax', 'rf_on_sigmay', 'rf_on_theta', 'rf_on_offset',\\\n",
    "              'rf_off_x0', 'rf_off_y0', 'rf_off_amp', 'rf_off_sigmax', 'rf_off_sigmay', 'rf_off_theta', 'rf_off_offset'])\n",
    "    params = np.transpose(np.vstack([spikingChannels, locs_spikingChs[spikingChannels, 0], locs_spikingChs[spikingChannels, 1], biasidxs[spikingChannels], fflatency2light[spikingChannels], fflatency2dark[spikingChannels],\\\n",
    "              ffduresp2light[spikingChannels], ffduresp2dark[spikingChannels], ffpeakresp2light[spikingChannels], ffpeakresp2dark[spikingChannels], ffirstspk2l_avg[spikingChannels], ffirstspk2d_avg[spikingChannels], \\\n",
    "              ffirstspk2l_std[spikingChannels], ffirstspk2d_std[spikingChannels], ffspkcnt2l_avg[spikingChannels], ffspkcnt2d_avg[spikingChannels], ffspkcnt2l_std[spikingChannels], ffspkcnt2d_std[spikingChannels],\\\n",
    "              starespunits[spikingChannels], stalatency_on[spikingChannels], stalatency_off[spikingChannels], stapeakresp_on[spikingChannels], stapeakresp_off[spikingChannels], mappedrfunits[spikingChannels], rfdiameters_on[spikingChannels], rfdiameters_off[spikingChannels], \\\n",
    "              popts_on[spikingChannels,0], popts_on[spikingChannels,1],popts_on[spikingChannels,2],popts_on[spikingChannels,3],popts_on[spikingChannels,4],popts_on[spikingChannels,5],popts_on[spikingChannels,6],\\\n",
    "              popts_off[spikingChannels,0], popts_off[spikingChannels,1],popts_off[spikingChannels,2],popts_off[spikingChannels,3],popts_off[spikingChannels,4],popts_off[spikingChannels,5],popts_off[spikingChannels,6]]))\n",
    "\n",
    "    params = params.astype(object)\n",
    "    params = np.insert(params, 0, paramnames, axis=0)\n",
    "#    pdb.set_trace()\n",
    "    paramsf = staparams_matfile+'_'+str(len(spikingChannels))+spksrc+'.mat'\n",
    "    scipy.io.savemat(paramsf,mdict={'STAfrParams':params}, oned_as='column')\n",
    "    print 'Parameters were saved into: ', paramsf    "
   ]
  }
 ],
 "metadata": {
  "kernelspec": {
   "display_name": "Python 2",
   "language": "python",
   "name": "python2"
  },
  "language_info": {
   "codemirror_mode": {
    "name": "ipython",
    "version": 2
   },
   "file_extension": ".py",
   "mimetype": "text/x-python",
   "name": "python",
   "nbconvert_exporter": "python",
   "pygments_lexer": "ipython2",
   "version": "2.7.13"
  }
 },
 "nbformat": 4,
 "nbformat_minor": 1
}
