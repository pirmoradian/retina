{
 "cells": [
  {
   "cell_type": "markdown",
   "metadata": {},
   "source": [
    "# Computing firing rates of ganglion cells"
   ]
  },
  {
   "cell_type": "markdown",
   "metadata": {},
   "source": [
    "This IPython notebook is written by [Sahar Pirmoradian](https://www.linkedin.com/in/spirmorad/) as part of the European [RENVISION](http://www.renvision-fp7.eu) project for analyzing neural responses to full-field stimulus (a sequence of light and dark flashes), while the cells are recorded using a high-density multielectrode arrays (4096 electrodes). \n",
    "\n",
    "Version 1.1, 19 February 2015"
   ]
  },
  {
   "cell_type": "markdown",
   "metadata": {},
   "source": [
    "## Importing necessary libraries"
   ]
  },
  {
   "cell_type": "code",
   "execution_count": 1,
   "metadata": {
    "collapsed": true
   },
   "outputs": [],
   "source": [
    "import h5py\n",
    "import numpy as np\n",
    "import scipy.io\n",
    "import os.path\n",
    "from scipy import stats\n",
    "import matplotlib as mplt\n",
    "import matplotlib.pyplot as plt\n",
    "import pylab\n",
    "from sklearn.neighbors.kde import KernelDensity\n",
    "from scipy.stats import poisson"
   ]
  },
  {
   "cell_type": "markdown",
   "metadata": {},
   "source": [
    "## Reading and preprocessing data"
   ]
  },
  {
   "cell_type": "markdown",
   "metadata": {},
   "source": [
    "### Setting data and stimulus file names"
   ]
  },
  {
   "cell_type": "code",
   "execution_count": 2,
   "metadata": {
    "collapsed": true
   },
   "outputs": [],
   "source": [
    "masterdr = '/Users/sahar/Documents/spktanlz/data/retina/P38_06Mar14/ret2'\n",
    "\n",
    "# data file is an hdf5 file (spikes, channels, ...)\n",
    "datafullfn = masterdr + '/hdf5/Retina02_LeftEye_Stim02_ClassStimSimp_SpkD45_v18_clusterIDs_0.3_1_combined_merged.hdf5'\n",
    "\n",
    "# stimulus file is a mat file that contains SamplingFrequency, frameSamples, frameTimes, pixels_allframes (see read_stimfile())  \n",
    "stimfullfn = masterdr + '/mat/Retina02_LeftEye_FF_triggerf_stim.mat'"
   ]
  },
  {
   "cell_type": "markdown",
   "metadata": {},
   "source": [
    "### Setting parameters "
   ]
  },
  {
   "cell_type": "code",
   "execution_count": 3,
   "metadata": {
    "collapsed": true
   },
   "outputs": [],
   "source": [
    "figpath = masterdr + '/figs/' # where firing rate figures are stored\n",
    "frparams_matfile = figpath + 'frparams' # it will be stored as a mat file\n",
    "spksrc = 'cl'  # spike source of our data, 'ch' (channels), 'cl' (clusters), 'su' (sorted units)\n",
    "coord_spksrc = 'rc' # coordination of channles on the chip, 'rc' (row-column) or 'cr' (column-row) \n",
    "minamp = 0 # minimum amplitude of spikes\n",
    "minspk = 30 # minimum spikes a cell must have in Full-field experiment to be considered in analyses; if the number of FF trials are 30, we assume a responding cell fires at least once to each trial, that is minimum spikes are 30\n",
    "no_stim_pertrial = 2 # black and light are presented in the full-field\n",
    "slctdchs = np.array([6,7])# 'all' # if you like to analyze the firing rate of all cells, set slctdchs = 'all'; otherwise if you analzye only the fr of selected cells, e.g. 13 or 752, set slctdchs = np.array([13,752]); for a range of cells e.g. from Cell 10 to Cell 20, sltdchs=np.arange(10,20)\n",
    "figformat = '.png'\n",
    "dt =.04 # .05 #.025 #  binning\n",
    "kernel = 'gaussian' #'exponential'\n",
    "maxlatency =1000\n",
    "minlatency = 0 #0#\n",
    "maxduration = 1000\n",
    "baseline_dur = .25 # int(starttime_exp) #stim['stimframes'][0] #5 sec\n",
    "checkRatePeakZFLG = True # only units with considerably high firing rate are considered\n",
    "max_poissonval_acceptable = .005 #1e-03\n",
    "convwithspktrainFLG = True # False # is convolution with PSTH\n",
    "firststim = 'l' # the first stimulus in the full-field is light ('l') or dark ('d') \n",
    "\n",
    "frplotFLG = 1\n",
    "latencyplotFLG = 0\n",
    "durplotFLG = 1\n",
    "biasidxFLG = 0\n",
    "d2lcmpFLG = 0 #dark 2 light comparison\n",
    "\n",
    "frsaveparamsFLG = True"
   ]
  },
  {
   "cell_type": "markdown",
   "metadata": {},
   "source": [
    "### Reading data file"
   ]
  },
  {
   "cell_type": "code",
   "execution_count": 20,
   "metadata": {
    "collapsed": true
   },
   "outputs": [],
   "source": [
    "def read_hdf5(fullfn, spksrc='ch'):\n",
    "  # fullfn - string; full file name of an hdf5 file to be read\n",
    "  # spksrc - 'ch' (channels), 'cl' (clusters), or 'su' (sorted units); spike source\n",
    "  # OUTPUT:\n",
    "  # spikes - array; frame number at which spikes were generated\n",
    "  # chs    - array; channels or clusters that generated corresponding spikes \n",
    "  # amps   - array; the amplitude of spikes\n",
    "  # freq   - float; sampling frequency. The frequency at which neuron signals were recorded\n",
    "  # nbins  - int; the resolution of channel locations; it's usually 64.\n",
    "  # loc2d  - array2D; the 2d location of channels on a chip   \n",
    "  # loc    - array1D; the location of channels that has been converted to 1 dimension for simplicity\n",
    "  # locspks2d - array2D; the location of spikes (not channels)\n",
    "\n",
    "  try:  \n",
    "    myfile = h5py.File(fullfn,'r')\n",
    "  except:\n",
    "    raise IOError('\\nI cannot open your hdf5 file: %s' % fullfn)\n",
    "\n",
    "  spikes = np.array(myfile['Times'].value, dtype=int)\n",
    "  amps = myfile['Amplitudes'].value\n",
    "  freq = myfile['Sampling'].value\n",
    "  loc2d, locspks2d = (np.array([]), np.array([]))\n",
    "  if (spksrc == 'ch'):\n",
    "    ch = myfile['Channels'].value\n",
    "    loc = np.array([])\n",
    "    nbins = 64\n",
    "  elif (spksrc == 'cl'):\n",
    "    locspks2d = myfile['Locations'].value\n",
    "    ch = myfile['Cluster']['ClusterId'].value\n",
    "    loc2d = myfile['Cluster']['CLocations'].value    \n",
    "    loc = myfile['Cluster']['CLocationsS'].value  \n",
    "    nbins = myfile['Cluster']['nBins'].value #768 #\n",
    "    # removing clusters with id equal to -1\n",
    "#    pdb.set_trace()\n",
    "    valididxs = np.where(ch>=0)\n",
    "    spikes = spikes[valididxs]\n",
    "    amps = amps[valididxs]\n",
    "    ch = ch[valididxs]    \n",
    "    locspks2d = locspks2d[valididxs]    \n",
    "       \n",
    "  elif (spksrc == 'su'):\n",
    "    ch = myfile['SortedUnits'].value\n",
    "    markedch = myfile['MarkedChannels'].value\n",
    "    valididxs = np.where(markedch>-1)\n",
    "    spikes = spikes[valididxs]\n",
    "    amps = amps[valididxs]\n",
    "    ch = ch[valididxs]    \n",
    "    loc = myfile['LocationsS'].value\n",
    "    nbins = 64  \n",
    "  data = {'spikes':spikes, 'amps': amps, 'ch':ch, 'freq':freq, 'nbins': nbins, 'loc':loc, 'loc2d':loc2d, 'locspks2d': locspks2d}\n",
    "  return data\n"
   ]
  },
  {
   "cell_type": "code",
   "execution_count": 21,
   "metadata": {},
   "outputs": [
    {
     "data": {
      "text/plain": [
       "{'amps': array([ 1.14476037,  1.53721869,  1.53019202, ...,  2.91496754,\n",
       "         1.83250916,  0.44643891], dtype=float32),\n",
       " 'ch': array([214,   3, 120, ...,  33, 851,  32]),\n",
       " 'freq': 7022.0,\n",
       " 'loc': array([ 656,  289, 3755, ...,    0, 1007,    0]),\n",
       " 'loc2d': array([[  9.99722195,  16.99970245],\n",
       "        [  3.99506378,  34.0018692 ],\n",
       "        [ 58.1168251 ,  35.79921722],\n",
       "        ..., \n",
       "        [  0.        ,   0.        ],\n",
       "        [ 15.6540947 ,   5.82002354],\n",
       "        [ -0.10717568,   7.24974203]], dtype=float32),\n",
       " 'locspks2d': array([[  4.99200249,  54.00999069],\n",
       "        [ 42.89151764,  42.13150787],\n",
       "        [ 41.17334747,  40.12137604],\n",
       "        ..., \n",
       "        [ 55.31795502,  54.15864563],\n",
       "        [ 47.5745697 ,   5.91076612],\n",
       "        [ 39.00831604,  55.05916595]], dtype=float32),\n",
       " 'nbins': 64,\n",
       " 'spikes': array([      18,       20,       31, ..., 10290297, 10290302, 10290303])}"
      ]
     },
     "execution_count": 21,
     "metadata": {},
     "output_type": "execute_result"
    }
   ],
   "source": [
    "data = read_hdf5(datafullfn, spksrc=spksrc)\n",
    "data"
   ]
  },
  {
   "cell_type": "markdown",
   "metadata": {},
   "source": [
    "### Reading stimulus file"
   ]
  },
  {
   "cell_type": "code",
   "execution_count": 22,
   "metadata": {
    "collapsed": true
   },
   "outputs": [],
   "source": [
    "def read_stimfile(fullfn):\n",
    "  # fullfn - string; a mat file containing the stimulus file whose variables are:\n",
    "  # SamplingFrequency - float; sampling frequency of data acquisition, e.g. 7022\n",
    "  # frameTimes - horizontal vector; times at which stimuli frames were presented, e.g. in a 15min white noise presentation with 100msec duration, 9000 images are presented, thus frameTimes is a <1x9000 double> vector  \n",
    "  # frameSamples - horizontal vector; instead of time, it contains frame numbers at which stimuli were presented, i.e. frameSamples = frameTimes * SamplingFrequency \n",
    "  # pixels_allframes - 2D array; each row represents the pixels of the image presented at each frame, e.g. in a 15min white noise presentation with 100msec duration, 9000 images are presented, and if each image has 27*27 (=729) pixels, then pixels_allframes is a <9000x729 double> array  \n",
    "  myfile = scipy.io.loadmat(fullfn)\n",
    "  stimframes = np.array(myfile.get('frameSamples')[0], dtype='int')\n",
    "  stimtimes = np.array(myfile.get('frameTimes')[0])\n",
    "  stimpixels = np.array(myfile.get('pixels_allframes'), dtype='int')\n",
    "  stimfreq = np.array(myfile.get('SamplingFrequency')[0][0])\n",
    "  stim = {'stimframes':stimframes, 'stimtimes': stimtimes, 'stimfreq':stimfreq, 'stimpixels':stimpixels}  \n",
    "  return stim"
   ]
  },
  {
   "cell_type": "code",
   "execution_count": 23,
   "metadata": {},
   "outputs": [
    {
     "data": {
      "text/plain": [
       "{'stimframes': array([1822238, 1836278, 1850319, 1864360, 1878400, 1892441, 1906481,\n",
       "        1920522, 1934562, 1948603, 1962643, 1976684, 1990725, 2004765,\n",
       "        2018805, 2032846, 2046887, 2060928, 2074968, 2089008, 2103049,\n",
       "        2117089, 2131130, 2145170, 2159211, 2173252, 2187292, 2201332,\n",
       "        2215373, 2229414, 2243455, 2257495, 2271535, 2285576, 2299617,\n",
       "        2313657, 2327697, 2341738, 2355779, 2369819, 2383859, 2397900,\n",
       "        2411941, 2425982, 2440022, 2454062, 2468103, 2482144, 2496184,\n",
       "        2510224, 2524265, 2538306, 2552347, 2566386, 2580427, 2594468,\n",
       "        2608508, 2622549, 2636589, 2650630]),\n",
       " 'stimfreq': array(7022, dtype=uint16),\n",
       " 'stimpixels': array([[255, 255, 255, ..., 255, 255, 255],\n",
       "        [  0,   0,   0, ...,   0,   0,   0],\n",
       "        [255, 255, 255, ..., 255, 255, 255],\n",
       "        ..., \n",
       "        [  0,   0,   0, ...,   0,   0,   0],\n",
       "        [255, 255, 255, ..., 255, 255, 255],\n",
       "        [  0,   0,   0, ...,   0,   0,   0]]),\n",
       " 'stimtimes': array([ 259.50412988,  261.50356024,  263.50313301,  265.50270578,\n",
       "         267.50213614,  269.50170891,  271.50113928,  273.50071205,\n",
       "         275.50014241,  277.49971518,  279.49914554,  281.49871831,\n",
       "         283.49829109,  285.49772145,  287.49715181,  289.49672458,\n",
       "         291.49629735,  293.49587012,  295.49530048,  297.49473085,\n",
       "         299.49430362,  301.49373398,  303.49330675,  305.49273711,\n",
       "         307.49230988,  309.49188265,  311.49131302,  313.49074338,\n",
       "         315.49031615,  317.48988892,  319.48946169,  321.48889205,\n",
       "         323.48832242,  325.48789519,  327.48746796,  329.48689832,\n",
       "         331.48632868,  333.48590145,  335.48547422,  337.48490459,\n",
       "         339.48433495,  341.48390772,  343.48348049,  345.48305326,\n",
       "         347.48248362,  349.48191398,  351.48148676,  353.48105953,\n",
       "         355.48048989,  357.47992025,  359.47949302,  361.47906579,\n",
       "         363.47863856,  365.47792652,  367.47749929,  369.47707206,\n",
       "         371.47650242,  373.47607519,  375.47550555,  377.47507833])}"
      ]
     },
     "execution_count": 23,
     "metadata": {},
     "output_type": "execute_result"
    }
   ],
   "source": [
    "stim = read_stimfile(stimfullfn) \n",
    "stim"
   ]
  },
  {
   "cell_type": "markdown",
   "metadata": {},
   "source": [
    "## Defining handy functions that will be called in later steps"
   ]
  },
  {
   "cell_type": "markdown",
   "metadata": {},
   "source": [
    "get_spkidx(data, minamp, minframe, maxframe) returns indices of spikes, with minimum amplitude of minamp, which are fired between minframe and maxframe"
   ]
  },
  {
   "cell_type": "code",
   "execution_count": 24,
   "metadata": {
    "collapsed": true
   },
   "outputs": [],
   "source": [
    "def get_spkidx(data, minamp=7, minframe=0, maxframe=1000):\n",
    "  amps = data['amps']\n",
    "  spikes = data['spikes']\n",
    "  idxframe_min = np.where(spikes >= minframe)[0]\n",
    "  elmidx_beforemaxf = next(x[0] for x in enumerate(idxframe_min) if spikes[x[1]] > maxframe)\n",
    "  idxframe = idxframe_min[:elmidx_beforemaxf]\n",
    "  idxamp = np.where(amps >= minamp)[0]\n",
    "  idx = np.intersect1d(idxframe, idxamp)\n",
    "  return idx"
   ]
  },
  {
   "cell_type": "markdown",
   "metadata": {},
   "source": [
    "get_hist_spkcnt(data, spkidx) returns the histogram of spikes whose indices are spkidx"
   ]
  },
  {
   "cell_type": "code",
   "execution_count": 25,
   "metadata": {
    "collapsed": true
   },
   "outputs": [],
   "source": [
    "def get_hist_spkcnt(data, spkidx):\n",
    "  ch = data['ch']\n",
    "  no_ch=max(ch[spkidx]) + 1\n",
    "  hist_spkcnt = np.histogram(ch[spkidx],bins=np.arange(no_ch+1))[0]\n",
    "  return hist_spkcnt"
   ]
  },
  {
   "cell_type": "markdown",
   "metadata": {},
   "source": [
    "get_chlocation(ich, spksrc, nbins, loc, coord_spksrc) returns the location (locr, locc) of channel ich"
   ]
  },
  {
   "cell_type": "code",
   "execution_count": 26,
   "metadata": {
    "collapsed": true
   },
   "outputs": [],
   "source": [
    "def get_chlocation(ich, spksrc, nbins, loc, coord_spksrc='rc'):\n",
    "  if 'array' in type(loc[ich]).__name__:\n",
    "    locr = loc[ich][0]\n",
    "    locc = loc[ich][1]\n",
    "  elif spksrc == 'ch':\n",
    "    locr = ich / nbins\n",
    "    locc = np.mod(ich, nbins)\n",
    "  elif spksrc == 'cl' or spksrc == 'su':\n",
    "    if nbins:\n",
    "      locr = loc[ich] / nbins\n",
    "      locc = np.mod(loc[ich], nbins)\n",
    "      locr = locr * 64 / nbins\n",
    "      locc = locc * 64 / nbins  \n",
    "    else:\n",
    "      locr = loc[ich][0]\n",
    "      locc = loc[ich][1]\n",
    "  if coord_spksrc == 'cr':\n",
    "    tmp = locr\n",
    "    locr = locc\n",
    "    locc = tmp\n",
    "  return locr, locc"
   ]
  },
  {
   "cell_type": "markdown",
   "metadata": {},
   "source": [
    "polish_fig(ax) polishes the figure passed by its axis, ax"
   ]
  },
  {
   "cell_type": "code",
   "execution_count": 27,
   "metadata": {
    "collapsed": true
   },
   "outputs": [],
   "source": [
    "def polish_fig(ax,xlabcoord=-.12,vis_rightaxis=False, vis_leftaxis=True, vis_topaxis=False, vis_bottomaxis=True, xtick_pos='bottom', ytick_pos='left', xlabel_pos='bottom', ylabel_pos='left', boldvline=True, invis_firstlabel=False, a=2):\n",
    "  mplt.rcParams['xtick.direction'] = 'out'\n",
    "  mplt.rcParams['ytick.direction'] = 'out'\n",
    "  mplt.rc('axes',facecolor='ffffff')\n",
    "  mplt.rc('axes',edgecolor='000000')\n",
    "  mplt.rc('axes',labelcolor='000000')\n",
    "  mplt.rc('xtick',color='000000')\n",
    "  mplt.rc('ytick',color='000000')\n",
    "  ax.spines[\"right\"].set_visible(vis_rightaxis)\n",
    "  ax.spines[\"top\"].set_visible(vis_topaxis)\n",
    "  ax.spines[\"left\"].set_visible(vis_leftaxis)\n",
    "  ax.spines[\"bottom\"].set_visible(vis_bottomaxis)\n",
    "  ax.xaxis.set_ticks_position(xtick_pos)\n",
    "  ax.yaxis.set_ticks_position(ytick_pos)\n",
    "  ax.xaxis.set_label_position(xlabel_pos)\n",
    "  ax.yaxis.set_label_position(ylabel_pos)\n",
    "  ax.xaxis.set_label_coords(0.5, xlabcoord)\n",
    "      \n",
    "  if invis_firstlabel:\n",
    "    plt.setp(ax.get_yticklabels()[0], visible=False)    \n",
    "    plt.setp(ax.get_xticklabels()[0], visible=False)    \n",
    "\n",
    "#  ax.yaxis.set_major_locator(MaxNLocator(prune='lower'))\n",
    "#  ax.tick_params(axis='x', pad=15) # distant ticks\n",
    "  if boldvline:\n",
    "    ax.axvline(linewidth=a, color=\"black\")\n",
    "    ax.axhline(linewidth=a, color=\"black\")\n",
    "    ax.tick_params('both', width=a, which='major', direction='out')\n"
   ]
  },
  {
   "cell_type": "code",
   "execution_count": 28,
   "metadata": {
    "collapsed": true
   },
   "outputs": [],
   "source": [
    "def plt_setlabels(titl='Response Latencies', xlab='Latency', ylab='Frequency', fntsz=16, xlabcoord=-.12, polishFLG=True):\n",
    "    plt.title(titl,fontsize=fntsz)    \n",
    "    plt.xlabel(xlab, fontsize=fntsz)\n",
    "    plt.ylabel(ylab, fontsize=fntsz)\n",
    "    if polishFLG:    \n",
    "      ax = plt.gca()\n",
    "      polish_fig(ax,xlabcoord=xlabcoord)"
   ]
  },
  {
   "cell_type": "markdown",
   "metadata": {},
   "source": [
    "## Measuring neural responses to Full-field stimuli"
   ]
  },
  {
   "cell_type": "code",
   "execution_count": 29,
   "metadata": {},
   "outputs": [
    {
     "name": "stdout",
     "output_type": "stream",
     "text": [
      "no of trials: 30\n"
     ]
    }
   ],
   "source": [
    "# reading data and setting parameters\n",
    "\n",
    "ch = data['ch']\n",
    "spikes = data['spikes']\n",
    "freq = data['freq']\n",
    "nbins = data['nbins']\n",
    "loc = data['loc']\n",
    "loc2d = data['loc2d']\n",
    "stimframes = stim['stimframes']  \n",
    "no_frames = np.size(stimframes)\n",
    "no_trials = no_frames/no_stim_pertrial\n",
    "print 'no of trials:', no_trials"
   ]
  },
  {
   "cell_type": "code",
   "execution_count": 30,
   "metadata": {},
   "outputs": [
    {
     "name": "stdout",
     "output_type": "stream",
     "text": [
      "spiking channels: [6 7]\n"
     ]
    }
   ],
   "source": [
    "# determining spiking channels\n",
    "spkidx = get_spkidx(data, minamp, stimframes[0], stimframes[-1])\n",
    "hist_spkcnt = get_hist_spkcnt(data, spkidx)\n",
    "allspikingChannels = np.where(hist_spkcnt >= minspk)[0] \n",
    "dur = (stimframes[1]-stimframes[0])/float(freq)\n",
    "\n",
    "# the first trial is called as dark trial and the second trial as light trial, regardless of whether the dark was first presented or the light  \n",
    "darktrials = zip(stimframes[0::2], stimframes[1::2])\n",
    "stimframes_corc = np.append(stimframes, stimframes[-1]+ (dur*freq)) \n",
    "lighttrials = zip(stimframes[1::2], stimframes_corc[2::2])\n",
    "\n",
    "if slctdchs == 'all':  \n",
    "    spikingChannels = allspikingChannels\n",
    "else:\n",
    "    spikingChannels = slctdchs[np.where(hist_spkcnt[slctdchs]>=minspk)[0]]\n",
    "print 'spiking channels:', spikingChannels"
   ]
  },
  {
   "cell_type": "code",
   "execution_count": 31,
   "metadata": {
    "collapsed": true
   },
   "outputs": [],
   "source": [
    "# initialization\n",
    "spkcnt2d_avg, spkcnt2d_std, spkcnt2l_avg, spkcnt2l_std = (np.zeros(max(spikingChannels)+1) for i in range(4))\n",
    "firstspk2d_avg, firstspk2d_std, firstspk2l_avg, firstspk2l_std = (np.zeros(max(spikingChannels)+1) for i in range(4))\n",
    "latency2dark, latency2light, duresp2dark, duresp2light, peakresp2dark, peakresp2light = (np.zeros(max(spikingChannels)+1) for i in range(6))\n",
    "biasidxs = np.ones(max(spikingChannels)+1) * -1.2\n",
    "latency2dark_mtx, latency2light_mtx, duresp2dark_mtx, duresp2light_mtx = (np.zeros((64, 64)) for i in range(4))\n",
    "latency2dark_mtx_no, latency2light_mtx_no, duresp2dark_mtx_no, duresp2light_mtx_no = (np.zeros((64, 64)) for i in range(4))\n",
    "biasidx_mtx = np.zeros((64, 64))\n",
    "biasidx_mtx_no = np.zeros((64,64))\n",
    "locs_spikingChs = np.zeros((max(spikingChannels)+1,2))"
   ]
  },
  {
   "cell_type": "markdown",
   "metadata": {},
   "source": [
    "This long piece of code computes and plots firing rate activity of all channels of multi-electrode array, including PSTH and raster plots "
   ]
  },
  {
   "cell_type": "code",
   "execution_count": 32,
   "metadata": {},
   "outputs": [
    {
     "name": "stdout",
     "output_type": "stream",
     "text": [
      "6\n",
      "bias index: 1.0 \n",
      "\n",
      "7\n",
      "bias index: 1.0 \n",
      "\n"
     ]
    }
   ],
   "source": [
    "  for ich in spikingChannels:\n",
    "#    pdb.set_trace()\n",
    "    print ich\n",
    "    if spksrc == 'cl':\n",
    "      locr, locc = get_chlocation(ich, spksrc, nbins, loc2d, coord_spksrc) \n",
    "    else:\n",
    "      locr, locc = get_chlocation(ich, spksrc, nbins, loc, coord_spksrc) \n",
    "    #TEMP: change these back. I had to do it for P38_ret1\n",
    "#    locr -= 1\n",
    "#    locc -= 1\n",
    "#    locs_spikingChs[ich] = int(locr*64+locc)\n",
    "    locs_spikingChs[ich] = np.array([locr, locc])\n",
    "    \n",
    "    spkidx_ich = np.where(ch==ich)[0]\n",
    "    spkidx_ich_ = np.intersect1d(spkidx_ich, spkidx)\n",
    "    spkframe_ich = spikes[spkidx_ich_]\n",
    "    \n",
    "    # initialization\n",
    "    spikes2dark_ich, spikes2light_ich = (np.array([]), np.array([]))\n",
    "    firstspk2dark_ich, firstspk2light_ich = ([],[])\n",
    "    spkcnt2dark_ich, spkcnt2light_ich = ([],[])\n",
    "    \n",
    "    # PSTH ******************************************************************    \n",
    "    for itrial in range(no_trials):\n",
    "        darktrial = darktrials[itrial]\n",
    "        lighttrial = lighttrials[itrial]\n",
    "        spkframe_darktrial = (spkframe_ich[(spkframe_ich>darktrial[0]) & (spkframe_ich<darktrial[1])]) - darktrial[0]\n",
    "        spkframe_lighttrial = (spkframe_ich[(spkframe_ich>lighttrial[0]) & (spkframe_ich<lighttrial[1])]) - lighttrial[0]\n",
    "        tdark = spkframe_darktrial/float(freq)\n",
    "        tlight = spkframe_lighttrial/float(freq)\n",
    "        spikes2dark_ich = np.append(spikes2dark_ich, tdark)\n",
    "        spikes2light_ich = np.append(spikes2light_ich, tlight)\n",
    "        if tdark.any(): \n",
    "          spkcnt2dark_ich.append(len(tdark))\n",
    "          firstspk2dark_ich.append(min(tdark))\n",
    "        if tlight.any():\n",
    "          spkcnt2light_ich.append(len(tlight))                \n",
    "          firstspk2light_ich.append(min(tlight))\n",
    "    \n",
    "    hist2dark, bin_edges_dark = np.histogram(spikes2dark_ich, bins=dur/dt, range=[0,dur])    \n",
    "    hist2light, bin_edges_light = np.histogram(spikes2light_ich, bins=dur/dt, range=[0,dur])    \n",
    "    hist2dark = hist2dark / float(no_trials*dt)\n",
    "    hist2light = hist2light / float(no_trials*dt)\n",
    "      \n",
    "    hist2dl = np.append(hist2dark, hist2light)\n",
    "    bin_edges_light = [b+dur for b in bin_edges_light]\n",
    "    bin_edges = np.append(bin_edges_dark[:-1], bin_edges_light)\n",
    "#    pdb.set_trace()\n",
    "   \n",
    "    # firing rate ***********************************************************    \n",
    "    histdt = hist2dl * dt\n",
    "    histdt_dark = hist2dark * dt\n",
    "    histdt_light = hist2light * dt\n",
    "    t=np.arange(-100,100,dt)\n",
    "    X_plot = bin_edges[:,np.newaxis] #np.linspace(0,4,1000)[:,np.newaxis]\n",
    "    if kernel == 'gaussian':\n",
    "      kernelfnc = 1./(np.sqrt(2*np.pi)*dt) * np.exp(-np.power(t/dt,2)/2.0)  \n",
    "    elif kernel == 'exponential':\n",
    "      kernelfnc = 1./(np.sqrt(2)*dt) * np.exp(-np.sqrt(2) * np.abs(t/dt))  \n",
    "#    pdb.set_trace()\n",
    "    if convwithspktrainFLG:\n",
    "      spktrain = np.append(spikes2dark_ich,spikes2light_ich+dur)\n",
    "      spktrain.sort()\n",
    "      # to estimate the best bandwidth (the estimate is much larger than what we think must be)\n",
    "#      grid = GridSearchCV(KernelDensity(kernel='gaussian'),\n",
    "#                    {'bandwidth': np.linspace(0.1, 1.0, 30)},\n",
    "#                    cv=20) # 20-fold cross-validation\n",
    "#      grid.fit(spktrain[:,np.newaxis])\n",
    "#      print grid.best_params_\n",
    "#      kde = grid.best_estimator_\n",
    "      kde = KernelDensity(kernel=kernel, bandwidth=dt).fit(spktrain[:,np.newaxis])\n",
    "      kde_logdens = kde.score_samples(X_plot)  \n",
    "      rate = np.exp(kde_logdens)\n",
    "      rate = rate * len(spktrain)/float(no_trials)\n",
    "      rate2dark = rate[:len(rate)/2]\n",
    "      rate2light = rate[len(rate)/2:-1]\n",
    "    else:\n",
    "      rate = np.convolve(kernelfnc, histdt) \n",
    "      rate2dark = np.convolve(kernelfnc, histdt_dark) \n",
    "      rate2light = np.convolve(kernelfnc, histdt_light) \n",
    "      rate = rate[np.floor(len(kernelfnc)/2)-1:len(rate)-np.ceil(len(kernelfnc)/2)+1]\n",
    "      rate2dark = rate2dark[np.floor(len(kernelfnc)/2)-1:len(rate2dark)-np.ceil(len(kernelfnc)/2)+1]\n",
    "      rate2light = rate2light[np.floor(len(kernelfnc)/2)-1:len(rate2light)-np.ceil(len(kernelfnc)/2)+1]\n",
    "#    pdb.set_trace()\n",
    "    tm = bin_edges \n",
    "    tmdark = bin_edges_dark\n",
    "    tmlight = bin_edges_light\n",
    "\n",
    "    # baseline *** ***********************************************************    \n",
    "    #calculating baseline from spontaneous activity preceding the experiment \n",
    "    if baseline_dur<1:\n",
    "      baseline = sum(hist2dark[-baseline_dur/dt:] + hist2light[-baseline_dur/dt:]) / np.float(2*baseline_dur/dt)\n",
    "    else:  \n",
    "      spks_ich_spont = np.where(spontdata['ch']==ich)[0] #spkidx_ich_spont=np.intersect1d(spkidx_ich, spkidx_spont)    \n",
    "      baseline = len(spks_ich_spont) / float(starttime_exp)\n",
    "#    pdb.set_trace()\n",
    "\n",
    "#      idxframe_min = np.where(spikes >= minframe)[0]\n",
    "#      elmidx_beforemaxf = next(x[0] for x in enumerate(idxframe_min) if spikes[x[1]] > maxframe)\n",
    "#      idxframe = idxframe_min[:elmidx_beforemaxf]\n",
    "#      idxamp = np.where(amps >= minamp)[0]\n",
    "#      #  idxframe_max = np.where(spikes <= maxframe)[0]\n",
    "#      #  idxframe = np.intersect1d(idxframe_min, idxframe_max)\n",
    "  \n",
    "#    print 'baseline spont:', baseline, '\\nbaseline 250ms:', baseline2, '\\n'    \n",
    "#   Checking the zscore of the peaks *** **************************************\n",
    "    p_peak_d = 1 - poisson.cdf(max(rate2dark), baseline+.00001) #the small amount added to the basline is for the problematic cases of having baseline=0\n",
    "    p_peak_l = 1 - poisson.cdf(max(rate2light), baseline+.00001)\n",
    "#    print 'baseline: ', baseline\n",
    "#    print '\\ndark peak:', max(rate2dark)\n",
    "#    print 'Prob:', str(p_peak_d)\n",
    "#    print '\\nlight peak:', max(rate2light)\n",
    "#    print 'Prob:', str(p_peak_l)\n",
    "    \n",
    "    if (checkRatePeakZFLG and (p_peak_d > max_poissonval_acceptable) and (p_peak_l > max_poissonval_acceptable)):\n",
    "      print 'Rejected unit: peak firing rate too small\\n\\n'\n",
    "      continue\n",
    "     \n",
    "#   PLotting firing rate ***********************************************************         \n",
    "#    pdb.set_trace()    \n",
    "    if frplotFLG:\n",
    "#      fntsz=16\n",
    "      plt.figure() \n",
    "#      pdb.set_trace()\n",
    "      plt.bar(bin_edges[:-1], hist2dl, width=dt, color='grey')      \n",
    "#      plt.plot(X_plot, rate_sklearn, 'r', lw=2)\n",
    "      plt.plot(tm, rate, 'r',lw=2)\n",
    "      plt_setlabels(titl=spksrc + ' ' + str(ich) + ' - loc (' + \"%0.1f\" % locr + ',' + \"%0.1f\" % locc + ')' + ' - spkcnt ' + str(hist_spkcnt[ich]), xlab='Time (sec)', ylab='Firing rate (Hz)', fntsz=18,xlabcoord=-.08)\n",
    "#      plt_setlabels(titl='', xlab='Time (sec)', ylab='Firing rate (Hz)', fntsz=18,xlabcoord=-.08)\n",
    "      plt.xlim([0,2*dur+.01])\n",
    "      plt.axhline(y=baseline, c='grey', ls='--', lw=1)      \n",
    "#      plt.text(0,0, '*', color='blue', fontsize=fntsz+2)\n",
    "#      plt.text(dur,0, '*', color='green', fontsize=fntsz+2)\n",
    "      plt.savefig(figpath+'rate_'+ spksrc +str(ich)+'_spkcnt'+str(hist_spkcnt[ich])+'_dt'+str(dt)+figformat)\n",
    "      plt.close()\n",
    "#   Cutting the rate function at the baseline *********************************\n",
    "    rate2dark = np.array(rate2dark) - baseline\n",
    "    rate2dark = [(r if r>0 else 0) for r in rate2dark]  \n",
    "    rate2light = np.array(rate2light) - baseline\n",
    "    rate2light = [(r if r>0 else 0) for r in rate2light]\n",
    "    \n",
    "#    pdb.set_trace()\n",
    "\n",
    "    # Latency response ********************************************************   \n",
    "    latencyd = 0.\n",
    "    latencyl = 0.\n",
    "    if ((p_peak_d < max_poissonval_acceptable) or (p_peak_l < max_poissonval_acceptable)): #mxrate\n",
    "      mxrate = max(rate2dark)\n",
    "      if mxrate:\n",
    "        peakrateidx = np.where(rate2dark==mxrate)[0][0]\n",
    "        latencyd = tmdark[peakrateidx] * 1000\n",
    "        if (latencyd < maxlatency and latencyd > minlatency):\n",
    "          latency2dark[ich] = latencyd\n",
    "          peakresp2dark[ich] = mxrate\n",
    "          latency2dark_mtx[round(locr), round(locc)] += latencyd\n",
    "          latency2dark_mtx_no[round(locr), round(locc)] += 1.\n",
    "  #          pdb.set_trace()\n",
    "\n",
    "#    if (p_peak_l < max_poissonval_acceptable): #mxrate:    \n",
    "      mxrate = max(rate2light)\n",
    "      if mxrate:\n",
    "        peakrateidx = np.where(rate2light==mxrate)[0][0]\n",
    "        latencyl = (tmlight[peakrateidx] - dur) * 1000\n",
    "        if (latencyl < maxlatency and latencyl > minlatency):\n",
    "          latency2light[ich] = latencyl\n",
    "          peakresp2light[ich] = mxrate\n",
    "          latency2light_mtx[round(locr), round(locc)] += latencyl\n",
    "          latency2light_mtx_no[round(locr), round(locc)] += 1.\n",
    "  #          pdb.set_trace()\n",
    "\n",
    "    if ((latencyd >= maxlatency or latencyd <= minlatency) and (latencyl >= maxlatency or latencyl <= minlatency)):\n",
    "      print 'Rejected unit: latency is too high or too low; latencyd', latencyd, 'latencyl', latencyl, '\\n\\n'\n",
    "      latency2dark[ich], latency2light[ich], peakresp2dark[ich], peakresp2light[ich] = (0,0,0,0)\n",
    "      continue\n",
    "#      print '\\nlatency:', latencyd, latencyl\n",
    "#      pdb.set_trace()\n",
    "    # Duration of response ****************************************************\n",
    "#    pdb.set_trace()\n",
    "    durespd = 0\n",
    "    durespl = 0\n",
    "    #if (p_peak_d < max_poissonval_acceptable): \n",
    "    if latency2dark[ich]:\n",
    "      durespd = dur * 1000\n",
    "      mxrate = max(rate2dark)\n",
    "      mxrate_tau = mxrate / np.e\n",
    "      peakrateidx = np.where(rate2dark==mxrate)[0][0]\n",
    "      for i in range(peakrateidx+1, len(rate2dark)):\n",
    "        if rate2dark[i] < mxrate_tau:\n",
    "          # estimating the exact timing f mxrate_tau: (y-y1)(x2-x1)/y2-y1 + x1\n",
    "          durespd =  (mxrate_tau - rate2dark[i-1])*(tmdark[i] - tmdark[i-1])/(rate2dark[i] - rate2dark[i-1]) + tmdark[i-1]\n",
    "          durespd = (durespd - tmdark[peakrateidx]) * 1000\n",
    "          break\n",
    "      if durespd < maxduration:\n",
    "#              print 'low duration d: ch ', ich\n",
    "        duresp2dark[ich] = durespd\n",
    "        duresp2dark_mtx[round(locr), round(locc)] += durespd\n",
    "        duresp2dark_mtx_no[round(locr), round(locc)] += 1.\n",
    "\n",
    "    #if (p_peak_l < max_poissonval_acceptable): #mxrate: \n",
    "    if latency2light[ich]:\n",
    "      durespl = dur * 1000\n",
    "      mxrate = max(rate2light)\n",
    "      mxrate_tau = mxrate / np.e\n",
    "      peakrateidx = np.where(rate2light==mxrate)[0][0]\n",
    "      for i in range(peakrateidx+1, len(rate2light)):\n",
    "        if rate2light[i] < mxrate_tau:\n",
    "          # estimating the exact timing f mxrate_tau: (y-y1)(x2-x1)/y2-y1 + x1\n",
    "          durespl =  (mxrate_tau - rate2light[i-1])*(tmlight[i] - tmlight[i-1])/(rate2light[i] - rate2light[i-1]) + tmlight[i-1]\n",
    "          durespl = (durespl - tmlight[peakrateidx]) * 1000            \n",
    "          break\n",
    "      if durespl < maxduration:\n",
    "        duresp2light[ich] = durespl\n",
    "        duresp2light_mtx[round(locr), round(locc)] += durespl\n",
    "        duresp2light_mtx_no[round(locr), round(locc)] += 1.\n",
    "      \n",
    "    if (durespd > maxduration and durespl > maxduration):\n",
    "      print 'Rejected unit: duration is too high; durespd', durespd, 'durespl', durespl, '\\n\\n'\n",
    "      latency2dark[ich], latency2light[ich], peakresp2dark[ich], peakresp2light[ich] = (0,0,0,0)\n",
    "      duresp2dark[ich], duresp2light[ich] = (0,0)\n",
    "      continue\n",
    "      \n",
    "#      print '\\nresponse duration:', durespd, durespl\n",
    "#    pdb.set_trace()      \n",
    "    # Biasindex response ******************************************************    \n",
    "    if ((p_peak_d < max_poissonval_acceptable) or (p_peak_l < max_poissonval_acceptable)): #(mxrate2dark or mxrate2light):\n",
    "      mxrate2dark = 0\n",
    "      mxrate2light = 0\n",
    "#      if (p_peak_d < max_poissonval_acceptable):\n",
    "      if latency2dark[ich]:\n",
    "        mxrate2dark = max(rate2dark)\n",
    "#      if (p_peak_l < max_poissonval_acceptable):\n",
    "      if latency2light[ich]:\n",
    "        mxrate2light = max(rate2light)\n",
    "      #print latency2dark[ich], latency2light[ich]\n",
    "      biasidx = (mxrate2light - mxrate2dark) / float(mxrate2dark + mxrate2light) \n",
    "      if firststim == 'l':\n",
    "        biasidx *= -1\n",
    "      biasidxs[ich] = biasidx\n",
    "      biasidx_mtx[round(locr), round(locc)] += biasidx\n",
    "      biasidx_mtx_no[round(locr), round(locc)] += 1.\n",
    "      print 'bias index:', biasidx, '\\n'\n",
    "#      pdb.set_trace()\n",
    "    \n",
    "    if d2lcmpFLG and (not biasidxFLG):\n",
    "      raise ValueError('Please set biasidxFLG to True!')\n",
    "\n",
    "#   Setting spike counts and first spike measures ******************************     \n",
    "    if len(spkcnt2dark_ich):\n",
    "      spkcnt2d_avg[ich]=np.mean(spkcnt2dark_ich)\n",
    "      spkcnt2d_std[ich]=np.std(spkcnt2dark_ich)\n",
    "      firstspk2d_avg[ich]=np.mean(firstspk2dark_ich)\n",
    "      firstspk2d_std[ich]=np.std(firstspk2dark_ich)\n",
    "      \n",
    "    if len(spkcnt2light_ich):          \n",
    "      spkcnt2l_avg[ich]=np.mean(spkcnt2light_ich)\n",
    "      spkcnt2l_std[ich]=np.std(spkcnt2light_ich)\n",
    "      firstspk2l_avg[ich]=np.mean(firstspk2light_ich)\n",
    "      firstspk2l_std[ich]=np.std(firstspk2light_ich)"
   ]
  },
  {
   "cell_type": "markdown",
   "metadata": {},
   "source": [
    "## Saving figures and computed parameters"
   ]
  },
  {
   "cell_type": "code",
   "execution_count": 33,
   "metadata": {},
   "outputs": [
    {
     "name": "stdout",
     "output_type": "stream",
     "text": [
      "figs were saved in  /Users/sahar/Documents/spktanlz/data/retina/P38_06Mar14/ret2/figs/\n",
      "saving fr params in a mat file...\n",
      "\n",
      "Parameters were saved into:  /Users/sahar/Documents/spktanlz/data/retina/P38_06Mar14/ret2/figs/frparams_2cl.mat\n"
     ]
    }
   ],
   "source": [
    "  print 'figs were saved in ', figpath\n",
    "  # ************************************PLOTS *********************************\n",
    "  ylab='channels'\n",
    "  if spksrc=='cl':\n",
    "    ylab = 'clusters'\n",
    "  elif spksrc == 'su':\n",
    "    ylab = 'units'\n",
    "\n",
    "  if firststim == 'l':\n",
    "    latency2dark, latency2light = latency2light, latency2dark\n",
    "    latency2dark_mtx, latency2light_mtx = latency2light_mtx, latency2dark_mtx\n",
    "    duresp2dark, duresp2light = duresp2light, duresp2dark\n",
    "    duresp2dark_mtx, duresp2light_mtx = duresp2light_mtx, duresp2dark_mtx\n",
    "    firstspk2d_avg, firstspk2l_avg = firstspk2l_avg, firstspk2d_avg      \n",
    "    firstspk2d_std, firstspk2l_std = firstspk2l_std, firstspk2d_std\n",
    "    spkcnt2d_avg, spkcnt2l_avg = spkcnt2l_avg, spkcnt2d_avg\n",
    "    spkcnt2d_std, spkcnt2l_std = spkcnt2l_std, spkcnt2d_std\n",
    "    peakresp2dark, peakresp2light = peakresp2light, peakresp2dark\n",
    "#  pdb.set_trace()\n",
    "  if frsaveparamsFLG:\n",
    "    print 'saving fr params in a mat file...'\n",
    "    frparamnames = np.array(['Spikingchannels', 'locs_r', 'locs_c','biasidxs', 'latency2l', 'latency2d',\\\n",
    "              'duresp2l', 'duresp2d', 'peakresp2l', 'peakresp2d', 'firstspk2l_avg', 'firstspk2d_avg', \\\n",
    "              'firstspk2l_std', 'firstspk2d_std', 'spkcnt2l_avg', 'spkcnt2d_avg', 'spkcnt2l_std', 'spkcnt2d_std'])\n",
    "    frparams = np.transpose(np.vstack([spikingChannels, locs_spikingChs[spikingChannels, 0], locs_spikingChs[spikingChannels, 1], biasidxs[spikingChannels], latency2light[spikingChannels], latency2dark[spikingChannels],\\\n",
    "              duresp2light[spikingChannels], duresp2dark[spikingChannels], peakresp2light[spikingChannels], peakresp2dark[spikingChannels], firstspk2l_avg[spikingChannels], firstspk2d_avg[spikingChannels], \\\n",
    "              firstspk2l_std[spikingChannels], firstspk2d_std[spikingChannels], spkcnt2l_avg[spikingChannels], spkcnt2d_avg[spikingChannels], spkcnt2l_std[spikingChannels], spkcnt2d_std[spikingChannels]]))\n",
    "    frparams = frparams.astype(object)\n",
    "    frparams = np.insert(frparams, 0, frparamnames, axis=0)\n",
    "    frparamsf = frparams_matfile+'_'+str(len(spikingChannels))+spksrc+'.mat'\n",
    "    scipy.io.savemat(frparamsf,mdict={'FRparams':frparams}, oned_as='column')\n",
    "    print '\\nParameters were saved into: ', frparamsf"
   ]
  }
 ],
 "metadata": {
  "kernelspec": {
   "display_name": "Python 2",
   "language": "python",
   "name": "python2"
  },
  "language_info": {
   "codemirror_mode": {
    "name": "ipython",
    "version": 2
   },
   "file_extension": ".py",
   "mimetype": "text/x-python",
   "name": "python",
   "nbconvert_exporter": "python",
   "pygments_lexer": "ipython2",
   "version": "2.7.13"
  }
 },
 "nbformat": 4,
 "nbformat_minor": 1
}
